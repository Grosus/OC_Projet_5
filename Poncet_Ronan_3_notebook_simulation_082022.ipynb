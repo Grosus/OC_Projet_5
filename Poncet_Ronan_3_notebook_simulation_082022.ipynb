{
 "cells": [
  {
   "cell_type": "code",
   "execution_count": 1,
   "id": "69911244",
   "metadata": {},
   "outputs": [],
   "source": [
    "import pandas as pd\n",
    "import missingno as msno\n",
    "import numpy as np\n",
    "import seaborn as sns\n",
    "import matplotlib.pyplot as plt\n",
    "from sklearn.manifold import TSNE\n",
    "from sklearn.compose import ColumnTransformer, make_column_transformer\n",
    "from sklearn.pipeline import Pipeline, make_pipeline\n",
    "from yellowbrick.cluster import KElbowVisualizer, SilhouetteVisualizer, InterclusterDistance\n",
    "from sklearn.cluster import KMeans, AgglomerativeClustering, dbscan\n",
    "import scipy.cluster.hierarchy as shc\n",
    "import plotly.graph_objs as go\n",
    "from sklearn.preprocessing import StandardScaler, OneHotEncoder, RobustScaler, OrdinalEncoder, LabelEncoder, MinMaxScaler,PowerTransformer\n",
    "from sklearn.metrics import adjusted_rand_score"
   ]
  },
  {
   "cell_type": "code",
   "execution_count": 2,
   "id": "c4b28507",
   "metadata": {},
   "outputs": [],
   "source": [
    "\n",
    "order_df=pd.read_csv('merged_clean.csv',sep='\\t')"
   ]
  },
  {
   "cell_type": "markdown",
   "id": "5a060d60",
   "metadata": {},
   "source": [
    "Pour évaluer la stabilité de nos segments au cours du temps, nous allons procéder de la maniere suivante:\n",
    "\n",
    "\n",
    "On entraine notre modele au temps T_0 (On choisit un T_0 equivalant à un an de semaines.\n",
    "\n",
    "On predit les segments du jeux de données au temps T_n = T_0 + n semaines à l'aide de ce modèle\n",
    "\n",
    "On entraine un modèle et on prédit les segments au temps T1\n",
    "\n",
    "On compare les deux résultats obtenue a l'aide de l'ARI\n",
    "\n",
    "On regardera l'évolution du score ARI obtenue en fonction des valeurs de n\n"
   ]
  },
  {
   "cell_type": "code",
   "execution_count": null,
   "id": "50292c75",
   "metadata": {},
   "outputs": [],
   "source": []
  },
  {
   "cell_type": "code",
   "execution_count": 3,
   "id": "a08b82aa",
   "metadata": {},
   "outputs": [],
   "source": [
    "num=['Recency','Frequency','Monetary','delivery_time','review_score']\n",
    "cat=['product_category_name_english','month','day','review_comment_title']"
   ]
  },
  {
   "cell_type": "code",
   "execution_count": null,
   "id": "ade90092",
   "metadata": {},
   "outputs": [],
   "source": [
    "\n"
   ]
  },
  {
   "cell_type": "code",
   "execution_count": null,
   "id": "bcfcbd34",
   "metadata": {},
   "outputs": [],
   "source": []
  },
  {
   "cell_type": "code",
   "execution_count": 4,
   "id": "c94d1de2",
   "metadata": {},
   "outputs": [],
   "source": [
    "order_df['order_purchase_timestamp']=order_df['order_purchase_timestamp'].astype('datetime64')"
   ]
  },
  {
   "cell_type": "code",
   "execution_count": 5,
   "id": "798cc2ec",
   "metadata": {
    "scrolled": false
   },
   "outputs": [
    {
     "name": "stdout",
     "output_type": "stream",
     "text": [
      "<class 'pandas.core.frame.DataFrame'>\n",
      "RangeIndex: 113202 entries, 0 to 113201\n",
      "Data columns (total 19 columns):\n",
      " #   Column                         Non-Null Count   Dtype         \n",
      "---  ------                         --------------   -----         \n",
      " 0   customer_id                    113202 non-null  object        \n",
      " 1   customer_state                 113202 non-null  object        \n",
      " 2   order_purchase_timestamp       113202 non-null  datetime64[ns]\n",
      " 3   shipping_limit_date            113202 non-null  object        \n",
      " 4   freight_value                  113202 non-null  float64       \n",
      " 5   payment_value                  113202 non-null  float64       \n",
      " 6   review_score                   113202 non-null  int64         \n",
      " 7   review_comment_title           113202 non-null  int64         \n",
      " 8   product_category_name_english  113202 non-null  object        \n",
      " 9   delivery_time                  113202 non-null  int64         \n",
      " 10  month                          113202 non-null  int64         \n",
      " 11  day                            113202 non-null  int64         \n",
      " 12  Recency                        113202 non-null  int64         \n",
      " 13  Frequency                      113202 non-null  int64         \n",
      " 14  Monetary                       113202 non-null  float64       \n",
      " 15  R                              113202 non-null  int64         \n",
      " 16  F                              113202 non-null  int64         \n",
      " 17  M                              113202 non-null  int64         \n",
      " 18  Segment                        113202 non-null  object        \n",
      "dtypes: datetime64[ns](1), float64(3), int64(10), object(5)\n",
      "memory usage: 16.4+ MB\n"
     ]
    }
   ],
   "source": [
    "#Découpe la période étudié en période de une semaine\n",
    "date_range=pd.date_range(start=order_df['order_purchase_timestamp'].min(),\n",
    "                         end=order_df['order_purchase_timestamp'].max(),freq='7D')\n",
    "order_df.info()"
   ]
  },
  {
   "cell_type": "code",
   "execution_count": 6,
   "id": "68217621",
   "metadata": {},
   "outputs": [
    {
     "data": {
      "text/plain": [
       "DatetimeIndex(['2016-10-03 09:44:50', '2016-10-10 09:44:50',\n",
       "               '2016-10-17 09:44:50', '2016-10-24 09:44:50',\n",
       "               '2016-10-31 09:44:50', '2016-11-07 09:44:50',\n",
       "               '2016-11-14 09:44:50', '2016-11-21 09:44:50',\n",
       "               '2016-11-28 09:44:50', '2016-12-05 09:44:50',\n",
       "               '2016-12-12 09:44:50', '2016-12-19 09:44:50',\n",
       "               '2016-12-26 09:44:50', '2017-01-02 09:44:50',\n",
       "               '2017-01-09 09:44:50', '2017-01-16 09:44:50',\n",
       "               '2017-01-23 09:44:50', '2017-01-30 09:44:50',\n",
       "               '2017-02-06 09:44:50', '2017-02-13 09:44:50',\n",
       "               '2017-02-20 09:44:50', '2017-02-27 09:44:50',\n",
       "               '2017-03-06 09:44:50', '2017-03-13 09:44:50',\n",
       "               '2017-03-20 09:44:50', '2017-03-27 09:44:50',\n",
       "               '2017-04-03 09:44:50', '2017-04-10 09:44:50',\n",
       "               '2017-04-17 09:44:50', '2017-04-24 09:44:50',\n",
       "               '2017-05-01 09:44:50', '2017-05-08 09:44:50',\n",
       "               '2017-05-15 09:44:50', '2017-05-22 09:44:50',\n",
       "               '2017-05-29 09:44:50', '2017-06-05 09:44:50',\n",
       "               '2017-06-12 09:44:50', '2017-06-19 09:44:50',\n",
       "               '2017-06-26 09:44:50', '2017-07-03 09:44:50',\n",
       "               '2017-07-10 09:44:50', '2017-07-17 09:44:50',\n",
       "               '2017-07-24 09:44:50', '2017-07-31 09:44:50',\n",
       "               '2017-08-07 09:44:50', '2017-08-14 09:44:50',\n",
       "               '2017-08-21 09:44:50', '2017-08-28 09:44:50',\n",
       "               '2017-09-04 09:44:50', '2017-09-11 09:44:50',\n",
       "               '2017-09-18 09:44:50', '2017-09-25 09:44:50',\n",
       "               '2017-10-02 09:44:50', '2017-10-09 09:44:50',\n",
       "               '2017-10-16 09:44:50', '2017-10-23 09:44:50',\n",
       "               '2017-10-30 09:44:50', '2017-11-06 09:44:50',\n",
       "               '2017-11-13 09:44:50', '2017-11-20 09:44:50',\n",
       "               '2017-11-27 09:44:50', '2017-12-04 09:44:50',\n",
       "               '2017-12-11 09:44:50', '2017-12-18 09:44:50',\n",
       "               '2017-12-25 09:44:50', '2018-01-01 09:44:50',\n",
       "               '2018-01-08 09:44:50', '2018-01-15 09:44:50',\n",
       "               '2018-01-22 09:44:50', '2018-01-29 09:44:50',\n",
       "               '2018-02-05 09:44:50', '2018-02-12 09:44:50',\n",
       "               '2018-02-19 09:44:50', '2018-02-26 09:44:50',\n",
       "               '2018-03-05 09:44:50', '2018-03-12 09:44:50',\n",
       "               '2018-03-19 09:44:50', '2018-03-26 09:44:50',\n",
       "               '2018-04-02 09:44:50', '2018-04-09 09:44:50',\n",
       "               '2018-04-16 09:44:50', '2018-04-23 09:44:50',\n",
       "               '2018-04-30 09:44:50', '2018-05-07 09:44:50',\n",
       "               '2018-05-14 09:44:50', '2018-05-21 09:44:50',\n",
       "               '2018-05-28 09:44:50', '2018-06-04 09:44:50',\n",
       "               '2018-06-11 09:44:50', '2018-06-18 09:44:50',\n",
       "               '2018-06-25 09:44:50', '2018-07-02 09:44:50',\n",
       "               '2018-07-09 09:44:50', '2018-07-16 09:44:50',\n",
       "               '2018-07-23 09:44:50', '2018-07-30 09:44:50',\n",
       "               '2018-08-06 09:44:50', '2018-08-13 09:44:50',\n",
       "               '2018-08-20 09:44:50', '2018-08-27 09:44:50'],\n",
       "              dtype='datetime64[ns]', freq='7D')"
      ]
     },
     "execution_count": 6,
     "metadata": {},
     "output_type": "execute_result"
    }
   ],
   "source": [
    "date_range"
   ]
  },
  {
   "cell_type": "code",
   "execution_count": 7,
   "id": "a211bca6",
   "metadata": {},
   "outputs": [],
   "source": [
    "#Preprocessor utilisé pour le Tsne\n",
    "num=['Frequency' , 'Recency', 'Monetary']\n",
    "preprocessor_tsne = ColumnTransformer(transformers=[\n",
    "        ('numeric',RobustScaler(), num),\n",
    "    ])\n",
    "\n",
    "numerical_features=['Recency','Frequency','Monetary']\n",
    "#Preprocessor utilisé pour le DBscan\n",
    "preprocessor = ColumnTransformer([\n",
    "        ('scaler',RobustScaler() , numerical_features)])"
   ]
  },
  {
   "cell_type": "code",
   "execution_count": 8,
   "id": "7edf2140",
   "metadata": {},
   "outputs": [],
   "source": [
    "#Crée les variables Recency, Frequency et Monetary correspondantes au dataframe df\n",
    "def RFM_eval(df):   \n",
    "    #Création du dataframe recency\n",
    "    merged=df\n",
    "    merged_recency = merged.groupby(by='customer_id',\n",
    "                            as_index=False)['order_purchase_timestamp'].max()\n",
    "    merged_recency.columns = ['customer_id', 'LastPurchaseDate']\n",
    "    recent_date = merged_recency['LastPurchaseDate'].max()\n",
    "    merged_recency['Recency'] = merged_recency['LastPurchaseDate'].apply(\n",
    "        lambda x: (recent_date - x).days)\n",
    "    merged_recency.head()\n",
    "\n",
    "    #Création du dataframe frequency\n",
    "    frequency_merged = merged.drop_duplicates().groupby(\n",
    "        by=['customer_id'], as_index=False)['order_purchase_timestamp'].count()\n",
    "    frequency_merged.columns = ['customer_id', 'Frequency']\n",
    "    frequency_merged.head()\n",
    "\n",
    "\n",
    "    #Création du dataframe 'monetary'\n",
    "    monetary_merged = merged.groupby(by='customer_id', as_index=False)['payment_value'].sum()\n",
    "    monetary_merged.columns = ['customer_id', 'Monetary']\n",
    "    monetary_merged.head()\n",
    "\n",
    "    #merge des Dataframe\n",
    "    rf_merged = merged_recency.merge(frequency_merged, on='customer_id')\n",
    "    rfm_merged = rf_merged.merge(monetary_merged, on='customer_id').drop(\n",
    "        columns='LastPurchaseDate')\n",
    "    rfm_merged.head()\n",
    "    \n",
    "    return rfm_merged"
   ]
  },
  {
   "cell_type": "code",
   "execution_count": null,
   "id": "6e9146bd",
   "metadata": {},
   "outputs": [],
   "source": []
  },
  {
   "cell_type": "code",
   "execution_count": null,
   "id": "c4e2ef40",
   "metadata": {},
   "outputs": [],
   "source": []
  },
  {
   "cell_type": "code",
   "execution_count": 9,
   "id": "82b17b55",
   "metadata": {},
   "outputs": [],
   "source": [
    "#Effectue le préprocessing du Dataframe de commande : df et le merge avec le Dataframe de RFM : rfm\n",
    "def to_merge(df,rfm):\n",
    "    merged=df\n",
    "    rfm_merged=rfm\n",
    "    temp=merged.groupby(\"customer_id\")\\\n",
    "        .agg({\"review_score\" : \"mean\",\n",
    "             \"delivery_time\" : 'mean',\n",
    "             \"review_comment_title\": \"max\",\n",
    "              \"customer_state\": lambda x:x.mode(),\n",
    "             \"day\": lambda x:x.mode(),\n",
    "             \"month\": lambda x:x.mode(),\n",
    "             \"product_category_name_english\": lambda x:x.mode().explode()})\n",
    "    rfm_merged=rfm_merged.merge(temp, on=[\"customer_id\"], how=\"inner\")\n",
    "    rfm_merged['product_category_name_english']=rfm_merged['product_category_name_english'].map(\n",
    "        lambda cat : cat if isinstance(cat,str) else cat[0])\n",
    "    return rfm_merged"
   ]
  },
  {
   "cell_type": "code",
   "execution_count": 10,
   "id": "358bf5c3",
   "metadata": {},
   "outputs": [],
   "source": [
    "#Retourne le modèle kmean entrainé sur le dataframe df\n",
    "def kmean(df):\n",
    "    numerical_features=df.columns\n",
    "\n",
    "    Kmean_clus=Pipeline([(\"preprocessor\", preprocessor),\n",
    "                        (\"kmeans\", KMeans(4,random_state=0))])\n",
    "    segment=Kmean_clus\n",
    "    segment.fit(df)\n",
    "    return segment"
   ]
  },
  {
   "cell_type": "code",
   "execution_count": 11,
   "id": "27014b64",
   "metadata": {},
   "outputs": [],
   "source": [
    "\n",
    "Tsne = Pipeline([\n",
    "            ('preprocessor', preprocessor_tsne),\n",
    "            ('tsne', TSNE(n_components=2, verbose=1,perplexity=150))])\n",
    "\n",
    "        \n",
    "        \n"
   ]
  },
  {
   "cell_type": "code",
   "execution_count": 12,
   "id": "ef89779d",
   "metadata": {},
   "outputs": [],
   "source": [
    "def db_ml(z):\n",
    "    db=dbscan(z,eps=0.8,min_samples=8)[1]\n",
    "    return db"
   ]
  },
  {
   "cell_type": "code",
   "execution_count": 13,
   "id": "2228db45",
   "metadata": {},
   "outputs": [],
   "source": [
    "\n",
    "#Effectue le preprocessing des données au temps T_n\n",
    "#Entraine et predit les données avec des modèles entrainé au temps T_n\n",
    "#Retourne le DataFrame de préprocessing et les segmentations obtenue\n",
    "\n",
    "def cluster_Tn(date):\n",
    "    if len(order_df[order_df['order_purchase_timestamp']<date])>0:\n",
    "        results=pd.DataFrame()\n",
    "        df=order_df[order_df['order_purchase_timestamp']<date]\n",
    "        df_rfm=RFM_eval(df)\n",
    "        df_prepro=to_merge(df,df_rfm)\n",
    "        \n",
    "        \n",
    "\n",
    "        \n",
    "        z=Tsne.fit_transform(df_prepro[['Frequency' , 'Recency', 'Monetary']])\n",
    "        \n",
    "        results['customer_id']=df_prepro['customer_id']\n",
    "        \n",
    "        results['km1']=kmean(df_prepro[['Frequency' , 'Recency', 'Monetary']]).predict(\n",
    "            df_prepro[['Frequency' , 'Recency', 'Monetary']])  \n",
    "        results['dbscan']=db_ml(z)\n",
    "        \n",
    "        return (results,df_prepro)\n",
    "            \n",
    "    \n",
    "        \n",
    "        "
   ]
  },
  {
   "cell_type": "code",
   "execution_count": null,
   "id": "9465c8a1",
   "metadata": {},
   "outputs": [],
   "source": []
  },
  {
   "cell_type": "code",
   "execution_count": 14,
   "id": "5c73b1ee",
   "metadata": {},
   "outputs": [],
   "source": [
    "#Predit les données au temps T_n avec le modèle entrainer au temps T_0\n",
    "#Retourne les segmentations obtenues\n",
    "def cluster_T0(df_T1):\n",
    "\n",
    "        \n",
    "    results=pd.DataFrame()\n",
    "\n",
    "    z_T1=Tsne_T0['preprocessor'].transform(df_T1[['Frequency' , 'Recency', 'Monetary']])\n",
    "    z_T1=TSNE(n_components=2, verbose=0,perplexity=120).fit_transform(z_T1)\n",
    "\n",
    "    results['customer_id']=df_T1['customer_id']\n",
    "\n",
    "    results['km1']=km1_mdl_T0.predict(df_T1[['Frequency' , 'Recency', 'Monetary']]) \n",
    "\n",
    "\n",
    "    results['dbscan']=db_ml(z_T1)\n",
    "\n",
    "\n",
    "    return results"
   ]
  },
  {
   "cell_type": "code",
   "execution_count": 15,
   "id": "d5ca9d34",
   "metadata": {},
   "outputs": [],
   "source": [
    "#Retourne les score ARI obtenue entre les deux segmentations\n",
    "def ARI_t0_t1(date_T1):\n",
    "    (results_m1 ,df_prepro_T1)=cluster_Tn(date_T1)\n",
    "    results_m0 =cluster_T0(df_prepro_T1)\n",
    "    \n",
    "    result_km1=adjusted_rand_score(results_m0['km1'],results_m1['km1'])\n",
    "    result_dbscan=adjusted_rand_score(results_m0['dbscan'],results_m1['dbscan'])\n",
    "    \n",
    "    \n",
    "    \n",
    "    return [date_T1,result_km1,result_dbscan]\n",
    "    \n",
    "    \n",
    "    \n",
    "    \n",
    "    \n",
    "    "
   ]
  },
  {
   "cell_type": "code",
   "execution_count": null,
   "id": "2a810dc3",
   "metadata": {},
   "outputs": [],
   "source": []
  },
  {
   "cell_type": "code",
   "execution_count": null,
   "id": "3ac00b4b",
   "metadata": {},
   "outputs": [],
   "source": []
  },
  {
   "cell_type": "code",
   "execution_count": null,
   "id": "c8d31062",
   "metadata": {
    "scrolled": true
   },
   "outputs": [],
   "source": []
  },
  {
   "cell_type": "code",
   "execution_count": null,
   "id": "f06dd4b0",
   "metadata": {},
   "outputs": [],
   "source": [
    "\n"
   ]
  },
  {
   "cell_type": "code",
   "execution_count": 16,
   "id": "1f843a12",
   "metadata": {},
   "outputs": [
    {
     "name": "stderr",
     "output_type": "stream",
     "text": [
      "C:\\Users\\pon\\anaconda3\\lib\\site-packages\\sklearn\\manifold\\_t_sne.py:780: FutureWarning: The default initialization in TSNE will change from 'random' to 'pca' in 1.2.\n",
      "  warnings.warn(\n",
      "C:\\Users\\pon\\anaconda3\\lib\\site-packages\\sklearn\\manifold\\_t_sne.py:790: FutureWarning: The default learning rate in TSNE will change from 200.0 to 'auto' in 1.2.\n",
      "  warnings.warn(\n"
     ]
    },
    {
     "name": "stdout",
     "output_type": "stream",
     "text": [
      "[t-SNE] Computing 451 nearest neighbors...\n",
      "[t-SNE] Indexed 21112 samples in 0.019s...\n",
      "[t-SNE] Computed neighbors for 21112 samples in 2.011s...\n",
      "[t-SNE] Computed conditional probabilities for sample 1000 / 21112\n",
      "[t-SNE] Computed conditional probabilities for sample 2000 / 21112\n",
      "[t-SNE] Computed conditional probabilities for sample 3000 / 21112\n",
      "[t-SNE] Computed conditional probabilities for sample 4000 / 21112\n",
      "[t-SNE] Computed conditional probabilities for sample 5000 / 21112\n",
      "[t-SNE] Computed conditional probabilities for sample 6000 / 21112\n",
      "[t-SNE] Computed conditional probabilities for sample 7000 / 21112\n",
      "[t-SNE] Computed conditional probabilities for sample 8000 / 21112\n",
      "[t-SNE] Computed conditional probabilities for sample 9000 / 21112\n",
      "[t-SNE] Computed conditional probabilities for sample 10000 / 21112\n",
      "[t-SNE] Computed conditional probabilities for sample 11000 / 21112\n",
      "[t-SNE] Computed conditional probabilities for sample 12000 / 21112\n",
      "[t-SNE] Computed conditional probabilities for sample 13000 / 21112\n",
      "[t-SNE] Computed conditional probabilities for sample 14000 / 21112\n",
      "[t-SNE] Computed conditional probabilities for sample 15000 / 21112\n",
      "[t-SNE] Computed conditional probabilities for sample 16000 / 21112\n",
      "[t-SNE] Computed conditional probabilities for sample 17000 / 21112\n",
      "[t-SNE] Computed conditional probabilities for sample 18000 / 21112\n",
      "[t-SNE] Computed conditional probabilities for sample 19000 / 21112\n",
      "[t-SNE] Computed conditional probabilities for sample 20000 / 21112\n",
      "[t-SNE] Computed conditional probabilities for sample 21000 / 21112\n",
      "[t-SNE] Computed conditional probabilities for sample 21112 / 21112\n",
      "[t-SNE] Mean sigma: 0.060063\n",
      "[t-SNE] KL divergence after 250 iterations with early exaggeration: 62.287281\n",
      "[t-SNE] KL divergence after 1000 iterations: 0.661741\n"
     ]
    },
    {
     "name": "stderr",
     "output_type": "stream",
     "text": [
      "C:\\Users\\pon\\anaconda3\\lib\\site-packages\\sklearn\\manifold\\_t_sne.py:780: FutureWarning: The default initialization in TSNE will change from 'random' to 'pca' in 1.2.\n",
      "  warnings.warn(\n",
      "C:\\Users\\pon\\anaconda3\\lib\\site-packages\\sklearn\\manifold\\_t_sne.py:790: FutureWarning: The default learning rate in TSNE will change from 200.0 to 'auto' in 1.2.\n",
      "  warnings.warn(\n"
     ]
    },
    {
     "name": "stdout",
     "output_type": "stream",
     "text": [
      "[t-SNE] Computing 451 nearest neighbors...\n",
      "[t-SNE] Indexed 21112 samples in 0.019s...\n",
      "[t-SNE] Computed neighbors for 21112 samples in 1.989s...\n",
      "[t-SNE] Computed conditional probabilities for sample 1000 / 21112\n",
      "[t-SNE] Computed conditional probabilities for sample 2000 / 21112\n",
      "[t-SNE] Computed conditional probabilities for sample 3000 / 21112\n",
      "[t-SNE] Computed conditional probabilities for sample 4000 / 21112\n",
      "[t-SNE] Computed conditional probabilities for sample 5000 / 21112\n",
      "[t-SNE] Computed conditional probabilities for sample 6000 / 21112\n",
      "[t-SNE] Computed conditional probabilities for sample 7000 / 21112\n",
      "[t-SNE] Computed conditional probabilities for sample 8000 / 21112\n",
      "[t-SNE] Computed conditional probabilities for sample 9000 / 21112\n",
      "[t-SNE] Computed conditional probabilities for sample 10000 / 21112\n",
      "[t-SNE] Computed conditional probabilities for sample 11000 / 21112\n",
      "[t-SNE] Computed conditional probabilities for sample 12000 / 21112\n",
      "[t-SNE] Computed conditional probabilities for sample 13000 / 21112\n",
      "[t-SNE] Computed conditional probabilities for sample 14000 / 21112\n",
      "[t-SNE] Computed conditional probabilities for sample 15000 / 21112\n",
      "[t-SNE] Computed conditional probabilities for sample 16000 / 21112\n",
      "[t-SNE] Computed conditional probabilities for sample 17000 / 21112\n",
      "[t-SNE] Computed conditional probabilities for sample 18000 / 21112\n",
      "[t-SNE] Computed conditional probabilities for sample 19000 / 21112\n",
      "[t-SNE] Computed conditional probabilities for sample 20000 / 21112\n",
      "[t-SNE] Computed conditional probabilities for sample 21000 / 21112\n",
      "[t-SNE] Computed conditional probabilities for sample 21112 / 21112\n",
      "[t-SNE] Mean sigma: 0.060063\n",
      "[t-SNE] KL divergence after 250 iterations with early exaggeration: 62.181660\n",
      "[t-SNE] KL divergence after 1000 iterations: 0.655728\n"
     ]
    },
    {
     "name": "stderr",
     "output_type": "stream",
     "text": [
      "C:\\Users\\pon\\anaconda3\\lib\\site-packages\\sklearn\\manifold\\_t_sne.py:780: FutureWarning: The default initialization in TSNE will change from 'random' to 'pca' in 1.2.\n",
      "  warnings.warn(\n",
      "C:\\Users\\pon\\anaconda3\\lib\\site-packages\\sklearn\\manifold\\_t_sne.py:790: FutureWarning: The default learning rate in TSNE will change from 200.0 to 'auto' in 1.2.\n",
      "  warnings.warn(\n"
     ]
    },
    {
     "name": "stdout",
     "output_type": "stream",
     "text": [
      "                 date  kmean    dbscan\n",
      "0 2017-08-28 09:44:50    1.0  0.662046\n"
     ]
    },
    {
     "name": "stderr",
     "output_type": "stream",
     "text": [
      "C:\\Users\\pon\\anaconda3\\lib\\site-packages\\sklearn\\manifold\\_t_sne.py:780: FutureWarning: The default initialization in TSNE will change from 'random' to 'pca' in 1.2.\n",
      "  warnings.warn(\n",
      "C:\\Users\\pon\\anaconda3\\lib\\site-packages\\sklearn\\manifold\\_t_sne.py:790: FutureWarning: The default learning rate in TSNE will change from 200.0 to 'auto' in 1.2.\n",
      "  warnings.warn(\n"
     ]
    },
    {
     "name": "stdout",
     "output_type": "stream",
     "text": [
      "[t-SNE] Computing 451 nearest neighbors...\n",
      "[t-SNE] Indexed 22062 samples in 0.021s...\n",
      "[t-SNE] Computed neighbors for 22062 samples in 2.172s...\n",
      "[t-SNE] Computed conditional probabilities for sample 1000 / 22062\n",
      "[t-SNE] Computed conditional probabilities for sample 2000 / 22062\n",
      "[t-SNE] Computed conditional probabilities for sample 3000 / 22062\n",
      "[t-SNE] Computed conditional probabilities for sample 4000 / 22062\n",
      "[t-SNE] Computed conditional probabilities for sample 5000 / 22062\n",
      "[t-SNE] Computed conditional probabilities for sample 6000 / 22062\n",
      "[t-SNE] Computed conditional probabilities for sample 7000 / 22062\n",
      "[t-SNE] Computed conditional probabilities for sample 8000 / 22062\n",
      "[t-SNE] Computed conditional probabilities for sample 9000 / 22062\n",
      "[t-SNE] Computed conditional probabilities for sample 10000 / 22062\n",
      "[t-SNE] Computed conditional probabilities for sample 11000 / 22062\n",
      "[t-SNE] Computed conditional probabilities for sample 12000 / 22062\n",
      "[t-SNE] Computed conditional probabilities for sample 13000 / 22062\n",
      "[t-SNE] Computed conditional probabilities for sample 14000 / 22062\n",
      "[t-SNE] Computed conditional probabilities for sample 15000 / 22062\n",
      "[t-SNE] Computed conditional probabilities for sample 16000 / 22062\n",
      "[t-SNE] Computed conditional probabilities for sample 17000 / 22062\n",
      "[t-SNE] Computed conditional probabilities for sample 18000 / 22062\n",
      "[t-SNE] Computed conditional probabilities for sample 19000 / 22062\n",
      "[t-SNE] Computed conditional probabilities for sample 20000 / 22062\n",
      "[t-SNE] Computed conditional probabilities for sample 21000 / 22062\n",
      "[t-SNE] Computed conditional probabilities for sample 22000 / 22062\n",
      "[t-SNE] Computed conditional probabilities for sample 22062 / 22062\n",
      "[t-SNE] Mean sigma: 0.058722\n",
      "[t-SNE] KL divergence after 250 iterations with early exaggeration: 62.294010\n",
      "[t-SNE] KL divergence after 1000 iterations: 0.666388\n"
     ]
    },
    {
     "name": "stderr",
     "output_type": "stream",
     "text": [
      "C:\\Users\\pon\\anaconda3\\lib\\site-packages\\sklearn\\manifold\\_t_sne.py:780: FutureWarning: The default initialization in TSNE will change from 'random' to 'pca' in 1.2.\n",
      "  warnings.warn(\n",
      "C:\\Users\\pon\\anaconda3\\lib\\site-packages\\sklearn\\manifold\\_t_sne.py:790: FutureWarning: The default learning rate in TSNE will change from 200.0 to 'auto' in 1.2.\n",
      "  warnings.warn(\n"
     ]
    },
    {
     "name": "stdout",
     "output_type": "stream",
     "text": [
      "                 date     kmean    dbscan\n",
      "0 2017-08-28 09:44:50  1.000000  0.662046\n",
      "1 2017-09-04 09:44:50  0.932924  0.628687\n"
     ]
    },
    {
     "name": "stderr",
     "output_type": "stream",
     "text": [
      "C:\\Users\\pon\\anaconda3\\lib\\site-packages\\sklearn\\manifold\\_t_sne.py:780: FutureWarning: The default initialization in TSNE will change from 'random' to 'pca' in 1.2.\n",
      "  warnings.warn(\n",
      "C:\\Users\\pon\\anaconda3\\lib\\site-packages\\sklearn\\manifold\\_t_sne.py:790: FutureWarning: The default learning rate in TSNE will change from 200.0 to 'auto' in 1.2.\n",
      "  warnings.warn(\n"
     ]
    },
    {
     "name": "stdout",
     "output_type": "stream",
     "text": [
      "[t-SNE] Computing 451 nearest neighbors...\n",
      "[t-SNE] Indexed 22925 samples in 0.020s...\n",
      "[t-SNE] Computed neighbors for 22925 samples in 2.198s...\n",
      "[t-SNE] Computed conditional probabilities for sample 1000 / 22925\n",
      "[t-SNE] Computed conditional probabilities for sample 2000 / 22925\n",
      "[t-SNE] Computed conditional probabilities for sample 3000 / 22925\n",
      "[t-SNE] Computed conditional probabilities for sample 4000 / 22925\n",
      "[t-SNE] Computed conditional probabilities for sample 5000 / 22925\n",
      "[t-SNE] Computed conditional probabilities for sample 6000 / 22925\n",
      "[t-SNE] Computed conditional probabilities for sample 7000 / 22925\n",
      "[t-SNE] Computed conditional probabilities for sample 8000 / 22925\n",
      "[t-SNE] Computed conditional probabilities for sample 9000 / 22925\n",
      "[t-SNE] Computed conditional probabilities for sample 10000 / 22925\n",
      "[t-SNE] Computed conditional probabilities for sample 11000 / 22925\n",
      "[t-SNE] Computed conditional probabilities for sample 12000 / 22925\n",
      "[t-SNE] Computed conditional probabilities for sample 13000 / 22925\n",
      "[t-SNE] Computed conditional probabilities for sample 14000 / 22925\n",
      "[t-SNE] Computed conditional probabilities for sample 15000 / 22925\n",
      "[t-SNE] Computed conditional probabilities for sample 16000 / 22925\n",
      "[t-SNE] Computed conditional probabilities for sample 17000 / 22925\n",
      "[t-SNE] Computed conditional probabilities for sample 18000 / 22925\n",
      "[t-SNE] Computed conditional probabilities for sample 19000 / 22925\n",
      "[t-SNE] Computed conditional probabilities for sample 20000 / 22925\n",
      "[t-SNE] Computed conditional probabilities for sample 21000 / 22925\n",
      "[t-SNE] Computed conditional probabilities for sample 22000 / 22925\n",
      "[t-SNE] Computed conditional probabilities for sample 22925 / 22925\n",
      "[t-SNE] Mean sigma: 0.058133\n",
      "[t-SNE] KL divergence after 250 iterations with early exaggeration: 62.492367\n",
      "[t-SNE] KL divergence after 1000 iterations: 0.675557\n"
     ]
    },
    {
     "name": "stderr",
     "output_type": "stream",
     "text": [
      "C:\\Users\\pon\\anaconda3\\lib\\site-packages\\sklearn\\manifold\\_t_sne.py:780: FutureWarning: The default initialization in TSNE will change from 'random' to 'pca' in 1.2.\n",
      "  warnings.warn(\n",
      "C:\\Users\\pon\\anaconda3\\lib\\site-packages\\sklearn\\manifold\\_t_sne.py:790: FutureWarning: The default learning rate in TSNE will change from 200.0 to 'auto' in 1.2.\n",
      "  warnings.warn(\n"
     ]
    },
    {
     "name": "stdout",
     "output_type": "stream",
     "text": [
      "                 date     kmean    dbscan\n",
      "0 2017-08-28 09:44:50  1.000000  0.662046\n",
      "1 2017-09-04 09:44:50  0.932924  0.628687\n",
      "2 2017-09-11 09:44:50  0.904551  0.630129\n"
     ]
    },
    {
     "name": "stderr",
     "output_type": "stream",
     "text": [
      "C:\\Users\\pon\\anaconda3\\lib\\site-packages\\sklearn\\manifold\\_t_sne.py:780: FutureWarning: The default initialization in TSNE will change from 'random' to 'pca' in 1.2.\n",
      "  warnings.warn(\n",
      "C:\\Users\\pon\\anaconda3\\lib\\site-packages\\sklearn\\manifold\\_t_sne.py:790: FutureWarning: The default learning rate in TSNE will change from 200.0 to 'auto' in 1.2.\n",
      "  warnings.warn(\n"
     ]
    },
    {
     "name": "stdout",
     "output_type": "stream",
     "text": [
      "[t-SNE] Computing 451 nearest neighbors...\n",
      "[t-SNE] Indexed 24037 samples in 0.021s...\n",
      "[t-SNE] Computed neighbors for 24037 samples in 2.333s...\n",
      "[t-SNE] Computed conditional probabilities for sample 1000 / 24037\n",
      "[t-SNE] Computed conditional probabilities for sample 2000 / 24037\n",
      "[t-SNE] Computed conditional probabilities for sample 3000 / 24037\n",
      "[t-SNE] Computed conditional probabilities for sample 4000 / 24037\n",
      "[t-SNE] Computed conditional probabilities for sample 5000 / 24037\n",
      "[t-SNE] Computed conditional probabilities for sample 6000 / 24037\n",
      "[t-SNE] Computed conditional probabilities for sample 7000 / 24037\n",
      "[t-SNE] Computed conditional probabilities for sample 8000 / 24037\n",
      "[t-SNE] Computed conditional probabilities for sample 9000 / 24037\n",
      "[t-SNE] Computed conditional probabilities for sample 10000 / 24037\n",
      "[t-SNE] Computed conditional probabilities for sample 11000 / 24037\n",
      "[t-SNE] Computed conditional probabilities for sample 12000 / 24037\n",
      "[t-SNE] Computed conditional probabilities for sample 13000 / 24037\n",
      "[t-SNE] Computed conditional probabilities for sample 14000 / 24037\n",
      "[t-SNE] Computed conditional probabilities for sample 15000 / 24037\n",
      "[t-SNE] Computed conditional probabilities for sample 16000 / 24037\n",
      "[t-SNE] Computed conditional probabilities for sample 17000 / 24037\n",
      "[t-SNE] Computed conditional probabilities for sample 18000 / 24037\n",
      "[t-SNE] Computed conditional probabilities for sample 19000 / 24037\n",
      "[t-SNE] Computed conditional probabilities for sample 20000 / 24037\n",
      "[t-SNE] Computed conditional probabilities for sample 21000 / 24037\n",
      "[t-SNE] Computed conditional probabilities for sample 22000 / 24037\n",
      "[t-SNE] Computed conditional probabilities for sample 23000 / 24037\n",
      "[t-SNE] Computed conditional probabilities for sample 24000 / 24037\n",
      "[t-SNE] Computed conditional probabilities for sample 24037 / 24037\n",
      "[t-SNE] Mean sigma: 0.057041\n",
      "[t-SNE] KL divergence after 250 iterations with early exaggeration: 63.031643\n",
      "[t-SNE] KL divergence after 1000 iterations: 0.688356\n"
     ]
    },
    {
     "name": "stderr",
     "output_type": "stream",
     "text": [
      "C:\\Users\\pon\\anaconda3\\lib\\site-packages\\sklearn\\manifold\\_t_sne.py:780: FutureWarning: The default initialization in TSNE will change from 'random' to 'pca' in 1.2.\n",
      "  warnings.warn(\n",
      "C:\\Users\\pon\\anaconda3\\lib\\site-packages\\sklearn\\manifold\\_t_sne.py:790: FutureWarning: The default learning rate in TSNE will change from 200.0 to 'auto' in 1.2.\n",
      "  warnings.warn(\n"
     ]
    },
    {
     "name": "stdout",
     "output_type": "stream",
     "text": [
      "                 date     kmean    dbscan\n",
      "0 2017-08-28 09:44:50  1.000000  0.662046\n",
      "1 2017-09-04 09:44:50  0.932924  0.628687\n",
      "2 2017-09-11 09:44:50  0.904551  0.630129\n",
      "3 2017-09-18 09:44:50  0.869314  0.642172\n"
     ]
    },
    {
     "name": "stderr",
     "output_type": "stream",
     "text": [
      "C:\\Users\\pon\\anaconda3\\lib\\site-packages\\sklearn\\manifold\\_t_sne.py:780: FutureWarning: The default initialization in TSNE will change from 'random' to 'pca' in 1.2.\n",
      "  warnings.warn(\n",
      "C:\\Users\\pon\\anaconda3\\lib\\site-packages\\sklearn\\manifold\\_t_sne.py:790: FutureWarning: The default learning rate in TSNE will change from 200.0 to 'auto' in 1.2.\n",
      "  warnings.warn(\n"
     ]
    },
    {
     "name": "stdout",
     "output_type": "stream",
     "text": [
      "[t-SNE] Computing 451 nearest neighbors...\n",
      "[t-SNE] Indexed 24972 samples in 0.022s...\n",
      "[t-SNE] Computed neighbors for 24972 samples in 2.505s...\n",
      "[t-SNE] Computed conditional probabilities for sample 1000 / 24972\n",
      "[t-SNE] Computed conditional probabilities for sample 2000 / 24972\n",
      "[t-SNE] Computed conditional probabilities for sample 3000 / 24972\n",
      "[t-SNE] Computed conditional probabilities for sample 4000 / 24972\n",
      "[t-SNE] Computed conditional probabilities for sample 5000 / 24972\n",
      "[t-SNE] Computed conditional probabilities for sample 6000 / 24972\n",
      "[t-SNE] Computed conditional probabilities for sample 7000 / 24972\n",
      "[t-SNE] Computed conditional probabilities for sample 8000 / 24972\n",
      "[t-SNE] Computed conditional probabilities for sample 9000 / 24972\n",
      "[t-SNE] Computed conditional probabilities for sample 10000 / 24972\n",
      "[t-SNE] Computed conditional probabilities for sample 11000 / 24972\n",
      "[t-SNE] Computed conditional probabilities for sample 12000 / 24972\n",
      "[t-SNE] Computed conditional probabilities for sample 13000 / 24972\n",
      "[t-SNE] Computed conditional probabilities for sample 14000 / 24972\n",
      "[t-SNE] Computed conditional probabilities for sample 15000 / 24972\n",
      "[t-SNE] Computed conditional probabilities for sample 16000 / 24972\n",
      "[t-SNE] Computed conditional probabilities for sample 17000 / 24972\n",
      "[t-SNE] Computed conditional probabilities for sample 18000 / 24972\n",
      "[t-SNE] Computed conditional probabilities for sample 19000 / 24972\n",
      "[t-SNE] Computed conditional probabilities for sample 20000 / 24972\n",
      "[t-SNE] Computed conditional probabilities for sample 21000 / 24972\n",
      "[t-SNE] Computed conditional probabilities for sample 22000 / 24972\n",
      "[t-SNE] Computed conditional probabilities for sample 23000 / 24972\n",
      "[t-SNE] Computed conditional probabilities for sample 24000 / 24972\n",
      "[t-SNE] Computed conditional probabilities for sample 24972 / 24972\n",
      "[t-SNE] Mean sigma: 0.056192\n",
      "[t-SNE] KL divergence after 250 iterations with early exaggeration: 62.814510\n",
      "[t-SNE] KL divergence after 1000 iterations: 0.695053\n"
     ]
    },
    {
     "name": "stderr",
     "output_type": "stream",
     "text": [
      "C:\\Users\\pon\\anaconda3\\lib\\site-packages\\sklearn\\manifold\\_t_sne.py:780: FutureWarning: The default initialization in TSNE will change from 'random' to 'pca' in 1.2.\n",
      "  warnings.warn(\n",
      "C:\\Users\\pon\\anaconda3\\lib\\site-packages\\sklearn\\manifold\\_t_sne.py:790: FutureWarning: The default learning rate in TSNE will change from 200.0 to 'auto' in 1.2.\n",
      "  warnings.warn(\n"
     ]
    },
    {
     "name": "stdout",
     "output_type": "stream",
     "text": [
      "                 date     kmean    dbscan\n",
      "0 2017-08-28 09:44:50  1.000000  0.662046\n",
      "1 2017-09-04 09:44:50  0.932924  0.628687\n",
      "2 2017-09-11 09:44:50  0.904551  0.630129\n",
      "3 2017-09-18 09:44:50  0.869314  0.642172\n",
      "4 2017-09-25 09:44:50  0.870575  0.604981\n"
     ]
    },
    {
     "name": "stderr",
     "output_type": "stream",
     "text": [
      "C:\\Users\\pon\\anaconda3\\lib\\site-packages\\sklearn\\manifold\\_t_sne.py:780: FutureWarning: The default initialization in TSNE will change from 'random' to 'pca' in 1.2.\n",
      "  warnings.warn(\n",
      "C:\\Users\\pon\\anaconda3\\lib\\site-packages\\sklearn\\manifold\\_t_sne.py:790: FutureWarning: The default learning rate in TSNE will change from 200.0 to 'auto' in 1.2.\n",
      "  warnings.warn(\n"
     ]
    },
    {
     "name": "stdout",
     "output_type": "stream",
     "text": [
      "[t-SNE] Computing 451 nearest neighbors...\n",
      "[t-SNE] Indexed 25887 samples in 0.023s...\n",
      "[t-SNE] Computed neighbors for 25887 samples in 2.556s...\n",
      "[t-SNE] Computed conditional probabilities for sample 1000 / 25887\n",
      "[t-SNE] Computed conditional probabilities for sample 2000 / 25887\n",
      "[t-SNE] Computed conditional probabilities for sample 3000 / 25887\n",
      "[t-SNE] Computed conditional probabilities for sample 4000 / 25887\n",
      "[t-SNE] Computed conditional probabilities for sample 5000 / 25887\n",
      "[t-SNE] Computed conditional probabilities for sample 6000 / 25887\n",
      "[t-SNE] Computed conditional probabilities for sample 7000 / 25887\n",
      "[t-SNE] Computed conditional probabilities for sample 8000 / 25887\n",
      "[t-SNE] Computed conditional probabilities for sample 9000 / 25887\n",
      "[t-SNE] Computed conditional probabilities for sample 10000 / 25887\n",
      "[t-SNE] Computed conditional probabilities for sample 11000 / 25887\n",
      "[t-SNE] Computed conditional probabilities for sample 12000 / 25887\n",
      "[t-SNE] Computed conditional probabilities for sample 13000 / 25887\n",
      "[t-SNE] Computed conditional probabilities for sample 14000 / 25887\n",
      "[t-SNE] Computed conditional probabilities for sample 15000 / 25887\n",
      "[t-SNE] Computed conditional probabilities for sample 16000 / 25887\n",
      "[t-SNE] Computed conditional probabilities for sample 17000 / 25887\n",
      "[t-SNE] Computed conditional probabilities for sample 18000 / 25887\n",
      "[t-SNE] Computed conditional probabilities for sample 19000 / 25887\n",
      "[t-SNE] Computed conditional probabilities for sample 20000 / 25887\n",
      "[t-SNE] Computed conditional probabilities for sample 21000 / 25887\n",
      "[t-SNE] Computed conditional probabilities for sample 22000 / 25887\n",
      "[t-SNE] Computed conditional probabilities for sample 23000 / 25887\n",
      "[t-SNE] Computed conditional probabilities for sample 24000 / 25887\n",
      "[t-SNE] Computed conditional probabilities for sample 25000 / 25887\n",
      "[t-SNE] Computed conditional probabilities for sample 25887 / 25887\n",
      "[t-SNE] Mean sigma: 0.055510\n",
      "[t-SNE] KL divergence after 250 iterations with early exaggeration: 65.215858\n",
      "[t-SNE] KL divergence after 1000 iterations: 0.736651\n"
     ]
    },
    {
     "name": "stderr",
     "output_type": "stream",
     "text": [
      "C:\\Users\\pon\\anaconda3\\lib\\site-packages\\sklearn\\manifold\\_t_sne.py:780: FutureWarning: The default initialization in TSNE will change from 'random' to 'pca' in 1.2.\n",
      "  warnings.warn(\n",
      "C:\\Users\\pon\\anaconda3\\lib\\site-packages\\sklearn\\manifold\\_t_sne.py:790: FutureWarning: The default learning rate in TSNE will change from 200.0 to 'auto' in 1.2.\n",
      "  warnings.warn(\n"
     ]
    },
    {
     "name": "stdout",
     "output_type": "stream",
     "text": [
      "                 date     kmean    dbscan\n",
      "0 2017-08-28 09:44:50  1.000000  0.662046\n",
      "1 2017-09-04 09:44:50  0.932924  0.628687\n",
      "2 2017-09-11 09:44:50  0.904551  0.630129\n",
      "3 2017-09-18 09:44:50  0.869314  0.642172\n",
      "4 2017-09-25 09:44:50  0.870575  0.604981\n",
      "5 2017-10-02 09:44:50  0.699774  0.513672\n"
     ]
    },
    {
     "name": "stderr",
     "output_type": "stream",
     "text": [
      "C:\\Users\\pon\\anaconda3\\lib\\site-packages\\sklearn\\manifold\\_t_sne.py:780: FutureWarning: The default initialization in TSNE will change from 'random' to 'pca' in 1.2.\n",
      "  warnings.warn(\n",
      "C:\\Users\\pon\\anaconda3\\lib\\site-packages\\sklearn\\manifold\\_t_sne.py:790: FutureWarning: The default learning rate in TSNE will change from 200.0 to 'auto' in 1.2.\n",
      "  warnings.warn(\n"
     ]
    },
    {
     "name": "stdout",
     "output_type": "stream",
     "text": [
      "[t-SNE] Computing 451 nearest neighbors...\n",
      "[t-SNE] Indexed 26844 samples in 0.024s...\n",
      "[t-SNE] Computed neighbors for 26844 samples in 2.720s...\n",
      "[t-SNE] Computed conditional probabilities for sample 1000 / 26844\n",
      "[t-SNE] Computed conditional probabilities for sample 2000 / 26844\n",
      "[t-SNE] Computed conditional probabilities for sample 3000 / 26844\n",
      "[t-SNE] Computed conditional probabilities for sample 4000 / 26844\n",
      "[t-SNE] Computed conditional probabilities for sample 5000 / 26844\n",
      "[t-SNE] Computed conditional probabilities for sample 6000 / 26844\n",
      "[t-SNE] Computed conditional probabilities for sample 7000 / 26844\n",
      "[t-SNE] Computed conditional probabilities for sample 8000 / 26844\n",
      "[t-SNE] Computed conditional probabilities for sample 9000 / 26844\n",
      "[t-SNE] Computed conditional probabilities for sample 10000 / 26844\n",
      "[t-SNE] Computed conditional probabilities for sample 11000 / 26844\n",
      "[t-SNE] Computed conditional probabilities for sample 12000 / 26844\n",
      "[t-SNE] Computed conditional probabilities for sample 13000 / 26844\n",
      "[t-SNE] Computed conditional probabilities for sample 14000 / 26844\n",
      "[t-SNE] Computed conditional probabilities for sample 15000 / 26844\n",
      "[t-SNE] Computed conditional probabilities for sample 16000 / 26844\n",
      "[t-SNE] Computed conditional probabilities for sample 17000 / 26844\n",
      "[t-SNE] Computed conditional probabilities for sample 18000 / 26844\n",
      "[t-SNE] Computed conditional probabilities for sample 19000 / 26844\n",
      "[t-SNE] Computed conditional probabilities for sample 20000 / 26844\n",
      "[t-SNE] Computed conditional probabilities for sample 21000 / 26844\n",
      "[t-SNE] Computed conditional probabilities for sample 22000 / 26844\n",
      "[t-SNE] Computed conditional probabilities for sample 23000 / 26844\n",
      "[t-SNE] Computed conditional probabilities for sample 24000 / 26844\n",
      "[t-SNE] Computed conditional probabilities for sample 25000 / 26844\n",
      "[t-SNE] Computed conditional probabilities for sample 26000 / 26844\n",
      "[t-SNE] Computed conditional probabilities for sample 26844 / 26844\n",
      "[t-SNE] Mean sigma: 0.054739\n",
      "[t-SNE] KL divergence after 250 iterations with early exaggeration: 63.153778\n",
      "[t-SNE] KL divergence after 1000 iterations: 0.714395\n"
     ]
    },
    {
     "name": "stderr",
     "output_type": "stream",
     "text": [
      "C:\\Users\\pon\\anaconda3\\lib\\site-packages\\sklearn\\manifold\\_t_sne.py:780: FutureWarning: The default initialization in TSNE will change from 'random' to 'pca' in 1.2.\n",
      "  warnings.warn(\n",
      "C:\\Users\\pon\\anaconda3\\lib\\site-packages\\sklearn\\manifold\\_t_sne.py:790: FutureWarning: The default learning rate in TSNE will change from 200.0 to 'auto' in 1.2.\n",
      "  warnings.warn(\n"
     ]
    },
    {
     "name": "stdout",
     "output_type": "stream",
     "text": [
      "                 date     kmean    dbscan\n",
      "0 2017-08-28 09:44:50  1.000000  0.662046\n",
      "1 2017-09-04 09:44:50  0.932924  0.628687\n",
      "2 2017-09-11 09:44:50  0.904551  0.630129\n",
      "3 2017-09-18 09:44:50  0.869314  0.642172\n",
      "4 2017-09-25 09:44:50  0.870575  0.604981\n",
      "5 2017-10-02 09:44:50  0.699774  0.513672\n",
      "6 2017-10-09 09:44:50  0.654158  0.657669\n"
     ]
    },
    {
     "name": "stderr",
     "output_type": "stream",
     "text": [
      "C:\\Users\\pon\\anaconda3\\lib\\site-packages\\sklearn\\manifold\\_t_sne.py:780: FutureWarning: The default initialization in TSNE will change from 'random' to 'pca' in 1.2.\n",
      "  warnings.warn(\n",
      "C:\\Users\\pon\\anaconda3\\lib\\site-packages\\sklearn\\manifold\\_t_sne.py:790: FutureWarning: The default learning rate in TSNE will change from 200.0 to 'auto' in 1.2.\n",
      "  warnings.warn(\n"
     ]
    },
    {
     "name": "stdout",
     "output_type": "stream",
     "text": [
      "[t-SNE] Computing 451 nearest neighbors...\n",
      "[t-SNE] Indexed 27842 samples in 0.024s...\n",
      "[t-SNE] Computed neighbors for 27842 samples in 2.801s...\n",
      "[t-SNE] Computed conditional probabilities for sample 1000 / 27842\n",
      "[t-SNE] Computed conditional probabilities for sample 2000 / 27842\n",
      "[t-SNE] Computed conditional probabilities for sample 3000 / 27842\n",
      "[t-SNE] Computed conditional probabilities for sample 4000 / 27842\n",
      "[t-SNE] Computed conditional probabilities for sample 5000 / 27842\n",
      "[t-SNE] Computed conditional probabilities for sample 6000 / 27842\n",
      "[t-SNE] Computed conditional probabilities for sample 7000 / 27842\n",
      "[t-SNE] Computed conditional probabilities for sample 8000 / 27842\n",
      "[t-SNE] Computed conditional probabilities for sample 9000 / 27842\n",
      "[t-SNE] Computed conditional probabilities for sample 10000 / 27842\n",
      "[t-SNE] Computed conditional probabilities for sample 11000 / 27842\n",
      "[t-SNE] Computed conditional probabilities for sample 12000 / 27842\n",
      "[t-SNE] Computed conditional probabilities for sample 13000 / 27842\n",
      "[t-SNE] Computed conditional probabilities for sample 14000 / 27842\n",
      "[t-SNE] Computed conditional probabilities for sample 15000 / 27842\n",
      "[t-SNE] Computed conditional probabilities for sample 16000 / 27842\n",
      "[t-SNE] Computed conditional probabilities for sample 17000 / 27842\n",
      "[t-SNE] Computed conditional probabilities for sample 18000 / 27842\n",
      "[t-SNE] Computed conditional probabilities for sample 19000 / 27842\n",
      "[t-SNE] Computed conditional probabilities for sample 20000 / 27842\n",
      "[t-SNE] Computed conditional probabilities for sample 21000 / 27842\n",
      "[t-SNE] Computed conditional probabilities for sample 22000 / 27842\n",
      "[t-SNE] Computed conditional probabilities for sample 23000 / 27842\n",
      "[t-SNE] Computed conditional probabilities for sample 24000 / 27842\n",
      "[t-SNE] Computed conditional probabilities for sample 25000 / 27842\n",
      "[t-SNE] Computed conditional probabilities for sample 26000 / 27842\n",
      "[t-SNE] Computed conditional probabilities for sample 27000 / 27842\n",
      "[t-SNE] Computed conditional probabilities for sample 27842 / 27842\n",
      "[t-SNE] Mean sigma: 0.053540\n",
      "[t-SNE] KL divergence after 250 iterations with early exaggeration: 63.477657\n",
      "[t-SNE] KL divergence after 1000 iterations: 0.725019\n"
     ]
    },
    {
     "name": "stderr",
     "output_type": "stream",
     "text": [
      "C:\\Users\\pon\\anaconda3\\lib\\site-packages\\sklearn\\manifold\\_t_sne.py:780: FutureWarning: The default initialization in TSNE will change from 'random' to 'pca' in 1.2.\n",
      "  warnings.warn(\n",
      "C:\\Users\\pon\\anaconda3\\lib\\site-packages\\sklearn\\manifold\\_t_sne.py:790: FutureWarning: The default learning rate in TSNE will change from 200.0 to 'auto' in 1.2.\n",
      "  warnings.warn(\n"
     ]
    },
    {
     "name": "stdout",
     "output_type": "stream",
     "text": [
      "                 date     kmean    dbscan\n",
      "0 2017-08-28 09:44:50  1.000000  0.662046\n",
      "1 2017-09-04 09:44:50  0.932924  0.628687\n",
      "2 2017-09-11 09:44:50  0.904551  0.630129\n",
      "3 2017-09-18 09:44:50  0.869314  0.642172\n",
      "4 2017-09-25 09:44:50  0.870575  0.604981\n",
      "5 2017-10-02 09:44:50  0.699774  0.513672\n",
      "6 2017-10-09 09:44:50  0.654158  0.657669\n",
      "7 2017-10-16 09:44:50  0.651367  0.506712\n"
     ]
    },
    {
     "name": "stderr",
     "output_type": "stream",
     "text": [
      "C:\\Users\\pon\\anaconda3\\lib\\site-packages\\sklearn\\manifold\\_t_sne.py:780: FutureWarning: The default initialization in TSNE will change from 'random' to 'pca' in 1.2.\n",
      "  warnings.warn(\n",
      "C:\\Users\\pon\\anaconda3\\lib\\site-packages\\sklearn\\manifold\\_t_sne.py:790: FutureWarning: The default learning rate in TSNE will change from 200.0 to 'auto' in 1.2.\n",
      "  warnings.warn(\n"
     ]
    },
    {
     "name": "stdout",
     "output_type": "stream",
     "text": [
      "[t-SNE] Computing 451 nearest neighbors...\n",
      "[t-SNE] Indexed 28939 samples in 0.024s...\n",
      "[t-SNE] Computed neighbors for 28939 samples in 2.745s...\n",
      "[t-SNE] Computed conditional probabilities for sample 1000 / 28939\n",
      "[t-SNE] Computed conditional probabilities for sample 2000 / 28939\n",
      "[t-SNE] Computed conditional probabilities for sample 3000 / 28939\n",
      "[t-SNE] Computed conditional probabilities for sample 4000 / 28939\n",
      "[t-SNE] Computed conditional probabilities for sample 5000 / 28939\n",
      "[t-SNE] Computed conditional probabilities for sample 6000 / 28939\n",
      "[t-SNE] Computed conditional probabilities for sample 7000 / 28939\n",
      "[t-SNE] Computed conditional probabilities for sample 8000 / 28939\n",
      "[t-SNE] Computed conditional probabilities for sample 9000 / 28939\n",
      "[t-SNE] Computed conditional probabilities for sample 10000 / 28939\n",
      "[t-SNE] Computed conditional probabilities for sample 11000 / 28939\n",
      "[t-SNE] Computed conditional probabilities for sample 12000 / 28939\n",
      "[t-SNE] Computed conditional probabilities for sample 13000 / 28939\n",
      "[t-SNE] Computed conditional probabilities for sample 14000 / 28939\n",
      "[t-SNE] Computed conditional probabilities for sample 15000 / 28939\n",
      "[t-SNE] Computed conditional probabilities for sample 16000 / 28939\n",
      "[t-SNE] Computed conditional probabilities for sample 17000 / 28939\n",
      "[t-SNE] Computed conditional probabilities for sample 18000 / 28939\n",
      "[t-SNE] Computed conditional probabilities for sample 19000 / 28939\n",
      "[t-SNE] Computed conditional probabilities for sample 20000 / 28939\n",
      "[t-SNE] Computed conditional probabilities for sample 21000 / 28939\n",
      "[t-SNE] Computed conditional probabilities for sample 22000 / 28939\n",
      "[t-SNE] Computed conditional probabilities for sample 23000 / 28939\n",
      "[t-SNE] Computed conditional probabilities for sample 24000 / 28939\n",
      "[t-SNE] Computed conditional probabilities for sample 25000 / 28939\n",
      "[t-SNE] Computed conditional probabilities for sample 26000 / 28939\n",
      "[t-SNE] Computed conditional probabilities for sample 27000 / 28939\n",
      "[t-SNE] Computed conditional probabilities for sample 28000 / 28939\n",
      "[t-SNE] Computed conditional probabilities for sample 28939 / 28939\n",
      "[t-SNE] Mean sigma: 0.052682\n",
      "[t-SNE] KL divergence after 250 iterations with early exaggeration: 66.505028\n",
      "[t-SNE] KL divergence after 1000 iterations: 0.773892\n"
     ]
    },
    {
     "name": "stderr",
     "output_type": "stream",
     "text": [
      "C:\\Users\\pon\\anaconda3\\lib\\site-packages\\sklearn\\manifold\\_t_sne.py:780: FutureWarning: The default initialization in TSNE will change from 'random' to 'pca' in 1.2.\n",
      "  warnings.warn(\n",
      "C:\\Users\\pon\\anaconda3\\lib\\site-packages\\sklearn\\manifold\\_t_sne.py:790: FutureWarning: The default learning rate in TSNE will change from 200.0 to 'auto' in 1.2.\n",
      "  warnings.warn(\n"
     ]
    },
    {
     "name": "stdout",
     "output_type": "stream",
     "text": [
      "                 date     kmean    dbscan\n",
      "0 2017-08-28 09:44:50  1.000000  0.662046\n",
      "1 2017-09-04 09:44:50  0.932924  0.628687\n",
      "2 2017-09-11 09:44:50  0.904551  0.630129\n",
      "3 2017-09-18 09:44:50  0.869314  0.642172\n",
      "4 2017-09-25 09:44:50  0.870575  0.604981\n",
      "5 2017-10-02 09:44:50  0.699774  0.513672\n",
      "6 2017-10-09 09:44:50  0.654158  0.657669\n",
      "7 2017-10-16 09:44:50  0.651367  0.506712\n",
      "8 2017-10-23 09:44:50  0.656271  0.389173\n"
     ]
    },
    {
     "name": "stderr",
     "output_type": "stream",
     "text": [
      "C:\\Users\\pon\\anaconda3\\lib\\site-packages\\sklearn\\manifold\\_t_sne.py:780: FutureWarning: The default initialization in TSNE will change from 'random' to 'pca' in 1.2.\n",
      "  warnings.warn(\n",
      "C:\\Users\\pon\\anaconda3\\lib\\site-packages\\sklearn\\manifold\\_t_sne.py:790: FutureWarning: The default learning rate in TSNE will change from 200.0 to 'auto' in 1.2.\n",
      "  warnings.warn(\n"
     ]
    },
    {
     "name": "stdout",
     "output_type": "stream",
     "text": [
      "[t-SNE] Computing 451 nearest neighbors...\n",
      "[t-SNE] Indexed 29864 samples in 0.027s...\n",
      "[t-SNE] Computed neighbors for 29864 samples in 3.013s...\n",
      "[t-SNE] Computed conditional probabilities for sample 1000 / 29864\n",
      "[t-SNE] Computed conditional probabilities for sample 2000 / 29864\n",
      "[t-SNE] Computed conditional probabilities for sample 3000 / 29864\n",
      "[t-SNE] Computed conditional probabilities for sample 4000 / 29864\n",
      "[t-SNE] Computed conditional probabilities for sample 5000 / 29864\n",
      "[t-SNE] Computed conditional probabilities for sample 6000 / 29864\n",
      "[t-SNE] Computed conditional probabilities for sample 7000 / 29864\n",
      "[t-SNE] Computed conditional probabilities for sample 8000 / 29864\n",
      "[t-SNE] Computed conditional probabilities for sample 9000 / 29864\n",
      "[t-SNE] Computed conditional probabilities for sample 10000 / 29864\n",
      "[t-SNE] Computed conditional probabilities for sample 11000 / 29864\n",
      "[t-SNE] Computed conditional probabilities for sample 12000 / 29864\n",
      "[t-SNE] Computed conditional probabilities for sample 13000 / 29864\n",
      "[t-SNE] Computed conditional probabilities for sample 14000 / 29864\n",
      "[t-SNE] Computed conditional probabilities for sample 15000 / 29864\n",
      "[t-SNE] Computed conditional probabilities for sample 16000 / 29864\n",
      "[t-SNE] Computed conditional probabilities for sample 17000 / 29864\n",
      "[t-SNE] Computed conditional probabilities for sample 18000 / 29864\n",
      "[t-SNE] Computed conditional probabilities for sample 19000 / 29864\n",
      "[t-SNE] Computed conditional probabilities for sample 20000 / 29864\n",
      "[t-SNE] Computed conditional probabilities for sample 21000 / 29864\n",
      "[t-SNE] Computed conditional probabilities for sample 22000 / 29864\n",
      "[t-SNE] Computed conditional probabilities for sample 23000 / 29864\n",
      "[t-SNE] Computed conditional probabilities for sample 24000 / 29864\n",
      "[t-SNE] Computed conditional probabilities for sample 25000 / 29864\n",
      "[t-SNE] Computed conditional probabilities for sample 26000 / 29864\n",
      "[t-SNE] Computed conditional probabilities for sample 27000 / 29864\n",
      "[t-SNE] Computed conditional probabilities for sample 28000 / 29864\n",
      "[t-SNE] Computed conditional probabilities for sample 29000 / 29864\n",
      "[t-SNE] Computed conditional probabilities for sample 29864 / 29864\n",
      "[t-SNE] Mean sigma: 0.051593\n",
      "[t-SNE] KL divergence after 250 iterations with early exaggeration: 66.904472\n",
      "[t-SNE] KL divergence after 1000 iterations: 0.794706\n"
     ]
    },
    {
     "name": "stderr",
     "output_type": "stream",
     "text": [
      "C:\\Users\\pon\\anaconda3\\lib\\site-packages\\sklearn\\manifold\\_t_sne.py:780: FutureWarning: The default initialization in TSNE will change from 'random' to 'pca' in 1.2.\n",
      "  warnings.warn(\n",
      "C:\\Users\\pon\\anaconda3\\lib\\site-packages\\sklearn\\manifold\\_t_sne.py:790: FutureWarning: The default learning rate in TSNE will change from 200.0 to 'auto' in 1.2.\n",
      "  warnings.warn(\n"
     ]
    },
    {
     "name": "stdout",
     "output_type": "stream",
     "text": [
      "                 date     kmean    dbscan\n",
      "0 2017-08-28 09:44:50  1.000000  0.662046\n",
      "1 2017-09-04 09:44:50  0.932924  0.628687\n",
      "2 2017-09-11 09:44:50  0.904551  0.630129\n",
      "3 2017-09-18 09:44:50  0.869314  0.642172\n",
      "4 2017-09-25 09:44:50  0.870575  0.604981\n",
      "5 2017-10-02 09:44:50  0.699774  0.513672\n",
      "6 2017-10-09 09:44:50  0.654158  0.657669\n",
      "7 2017-10-16 09:44:50  0.651367  0.506712\n",
      "8 2017-10-23 09:44:50  0.656271  0.389173\n",
      "9 2017-10-30 09:44:50  0.659844  0.448400\n"
     ]
    },
    {
     "name": "stderr",
     "output_type": "stream",
     "text": [
      "C:\\Users\\pon\\anaconda3\\lib\\site-packages\\sklearn\\manifold\\_t_sne.py:780: FutureWarning: The default initialization in TSNE will change from 'random' to 'pca' in 1.2.\n",
      "  warnings.warn(\n",
      "C:\\Users\\pon\\anaconda3\\lib\\site-packages\\sklearn\\manifold\\_t_sne.py:790: FutureWarning: The default learning rate in TSNE will change from 200.0 to 'auto' in 1.2.\n",
      "  warnings.warn(\n"
     ]
    },
    {
     "name": "stdout",
     "output_type": "stream",
     "text": [
      "[t-SNE] Computing 451 nearest neighbors...\n",
      "[t-SNE] Indexed 30761 samples in 0.031s...\n",
      "[t-SNE] Computed neighbors for 30761 samples in 3.157s...\n",
      "[t-SNE] Computed conditional probabilities for sample 1000 / 30761\n",
      "[t-SNE] Computed conditional probabilities for sample 2000 / 30761\n",
      "[t-SNE] Computed conditional probabilities for sample 3000 / 30761\n",
      "[t-SNE] Computed conditional probabilities for sample 4000 / 30761\n",
      "[t-SNE] Computed conditional probabilities for sample 5000 / 30761\n",
      "[t-SNE] Computed conditional probabilities for sample 6000 / 30761\n",
      "[t-SNE] Computed conditional probabilities for sample 7000 / 30761\n",
      "[t-SNE] Computed conditional probabilities for sample 8000 / 30761\n",
      "[t-SNE] Computed conditional probabilities for sample 9000 / 30761\n",
      "[t-SNE] Computed conditional probabilities for sample 10000 / 30761\n",
      "[t-SNE] Computed conditional probabilities for sample 11000 / 30761\n",
      "[t-SNE] Computed conditional probabilities for sample 12000 / 30761\n",
      "[t-SNE] Computed conditional probabilities for sample 13000 / 30761\n",
      "[t-SNE] Computed conditional probabilities for sample 14000 / 30761\n",
      "[t-SNE] Computed conditional probabilities for sample 15000 / 30761\n",
      "[t-SNE] Computed conditional probabilities for sample 16000 / 30761\n",
      "[t-SNE] Computed conditional probabilities for sample 17000 / 30761\n",
      "[t-SNE] Computed conditional probabilities for sample 18000 / 30761\n",
      "[t-SNE] Computed conditional probabilities for sample 19000 / 30761\n",
      "[t-SNE] Computed conditional probabilities for sample 20000 / 30761\n",
      "[t-SNE] Computed conditional probabilities for sample 21000 / 30761\n",
      "[t-SNE] Computed conditional probabilities for sample 22000 / 30761\n",
      "[t-SNE] Computed conditional probabilities for sample 23000 / 30761\n",
      "[t-SNE] Computed conditional probabilities for sample 24000 / 30761\n",
      "[t-SNE] Computed conditional probabilities for sample 25000 / 30761\n",
      "[t-SNE] Computed conditional probabilities for sample 26000 / 30761\n",
      "[t-SNE] Computed conditional probabilities for sample 27000 / 30761\n",
      "[t-SNE] Computed conditional probabilities for sample 28000 / 30761\n",
      "[t-SNE] Computed conditional probabilities for sample 29000 / 30761\n",
      "[t-SNE] Computed conditional probabilities for sample 30000 / 30761\n",
      "[t-SNE] Computed conditional probabilities for sample 30761 / 30761\n",
      "[t-SNE] Mean sigma: 0.050918\n",
      "[t-SNE] KL divergence after 250 iterations with early exaggeration: 64.132629\n",
      "[t-SNE] KL divergence after 1000 iterations: 0.755103\n"
     ]
    },
    {
     "name": "stderr",
     "output_type": "stream",
     "text": [
      "C:\\Users\\pon\\anaconda3\\lib\\site-packages\\sklearn\\manifold\\_t_sne.py:780: FutureWarning: The default initialization in TSNE will change from 'random' to 'pca' in 1.2.\n",
      "  warnings.warn(\n",
      "C:\\Users\\pon\\anaconda3\\lib\\site-packages\\sklearn\\manifold\\_t_sne.py:790: FutureWarning: The default learning rate in TSNE will change from 200.0 to 'auto' in 1.2.\n",
      "  warnings.warn(\n"
     ]
    },
    {
     "name": "stdout",
     "output_type": "stream",
     "text": [
      "                  date     kmean    dbscan\n",
      "0  2017-08-28 09:44:50  1.000000  0.662046\n",
      "1  2017-09-04 09:44:50  0.932924  0.628687\n",
      "2  2017-09-11 09:44:50  0.904551  0.630129\n",
      "3  2017-09-18 09:44:50  0.869314  0.642172\n",
      "4  2017-09-25 09:44:50  0.870575  0.604981\n",
      "5  2017-10-02 09:44:50  0.699774  0.513672\n",
      "6  2017-10-09 09:44:50  0.654158  0.657669\n",
      "7  2017-10-16 09:44:50  0.651367  0.506712\n",
      "8  2017-10-23 09:44:50  0.656271  0.389173\n",
      "9  2017-10-30 09:44:50  0.659844  0.448400\n",
      "10 2017-11-06 09:44:50  0.525645  0.540100\n"
     ]
    },
    {
     "name": "stderr",
     "output_type": "stream",
     "text": [
      "C:\\Users\\pon\\anaconda3\\lib\\site-packages\\sklearn\\manifold\\_t_sne.py:780: FutureWarning: The default initialization in TSNE will change from 'random' to 'pca' in 1.2.\n",
      "  warnings.warn(\n",
      "C:\\Users\\pon\\anaconda3\\lib\\site-packages\\sklearn\\manifold\\_t_sne.py:790: FutureWarning: The default learning rate in TSNE will change from 200.0 to 'auto' in 1.2.\n",
      "  warnings.warn(\n"
     ]
    },
    {
     "name": "stdout",
     "output_type": "stream",
     "text": [
      "[t-SNE] Computing 451 nearest neighbors...\n",
      "[t-SNE] Indexed 31904 samples in 0.031s...\n",
      "[t-SNE] Computed neighbors for 31904 samples in 3.103s...\n",
      "[t-SNE] Computed conditional probabilities for sample 1000 / 31904\n",
      "[t-SNE] Computed conditional probabilities for sample 2000 / 31904\n",
      "[t-SNE] Computed conditional probabilities for sample 3000 / 31904\n",
      "[t-SNE] Computed conditional probabilities for sample 4000 / 31904\n",
      "[t-SNE] Computed conditional probabilities for sample 5000 / 31904\n",
      "[t-SNE] Computed conditional probabilities for sample 6000 / 31904\n",
      "[t-SNE] Computed conditional probabilities for sample 7000 / 31904\n",
      "[t-SNE] Computed conditional probabilities for sample 8000 / 31904\n",
      "[t-SNE] Computed conditional probabilities for sample 9000 / 31904\n",
      "[t-SNE] Computed conditional probabilities for sample 10000 / 31904\n",
      "[t-SNE] Computed conditional probabilities for sample 11000 / 31904\n",
      "[t-SNE] Computed conditional probabilities for sample 12000 / 31904\n",
      "[t-SNE] Computed conditional probabilities for sample 13000 / 31904\n",
      "[t-SNE] Computed conditional probabilities for sample 14000 / 31904\n",
      "[t-SNE] Computed conditional probabilities for sample 15000 / 31904\n",
      "[t-SNE] Computed conditional probabilities for sample 16000 / 31904\n",
      "[t-SNE] Computed conditional probabilities for sample 17000 / 31904\n",
      "[t-SNE] Computed conditional probabilities for sample 18000 / 31904\n",
      "[t-SNE] Computed conditional probabilities for sample 19000 / 31904\n",
      "[t-SNE] Computed conditional probabilities for sample 20000 / 31904\n",
      "[t-SNE] Computed conditional probabilities for sample 21000 / 31904\n",
      "[t-SNE] Computed conditional probabilities for sample 22000 / 31904\n",
      "[t-SNE] Computed conditional probabilities for sample 23000 / 31904\n",
      "[t-SNE] Computed conditional probabilities for sample 24000 / 31904\n",
      "[t-SNE] Computed conditional probabilities for sample 25000 / 31904\n",
      "[t-SNE] Computed conditional probabilities for sample 26000 / 31904\n",
      "[t-SNE] Computed conditional probabilities for sample 27000 / 31904\n",
      "[t-SNE] Computed conditional probabilities for sample 28000 / 31904\n",
      "[t-SNE] Computed conditional probabilities for sample 29000 / 31904\n",
      "[t-SNE] Computed conditional probabilities for sample 30000 / 31904\n",
      "[t-SNE] Computed conditional probabilities for sample 31000 / 31904\n",
      "[t-SNE] Computed conditional probabilities for sample 31904 / 31904\n",
      "[t-SNE] Mean sigma: 0.050043\n",
      "[t-SNE] KL divergence after 250 iterations with early exaggeration: 64.304955\n",
      "[t-SNE] KL divergence after 1000 iterations: 0.762959\n"
     ]
    },
    {
     "name": "stderr",
     "output_type": "stream",
     "text": [
      "C:\\Users\\pon\\anaconda3\\lib\\site-packages\\sklearn\\manifold\\_t_sne.py:780: FutureWarning: The default initialization in TSNE will change from 'random' to 'pca' in 1.2.\n",
      "  warnings.warn(\n",
      "C:\\Users\\pon\\anaconda3\\lib\\site-packages\\sklearn\\manifold\\_t_sne.py:790: FutureWarning: The default learning rate in TSNE will change from 200.0 to 'auto' in 1.2.\n",
      "  warnings.warn(\n"
     ]
    },
    {
     "name": "stdout",
     "output_type": "stream",
     "text": [
      "                  date     kmean    dbscan\n",
      "0  2017-08-28 09:44:50  1.000000  0.662046\n",
      "1  2017-09-04 09:44:50  0.932924  0.628687\n",
      "2  2017-09-11 09:44:50  0.904551  0.630129\n",
      "3  2017-09-18 09:44:50  0.869314  0.642172\n",
      "4  2017-09-25 09:44:50  0.870575  0.604981\n",
      "5  2017-10-02 09:44:50  0.699774  0.513672\n",
      "6  2017-10-09 09:44:50  0.654158  0.657669\n",
      "7  2017-10-16 09:44:50  0.651367  0.506712\n",
      "8  2017-10-23 09:44:50  0.656271  0.389173\n",
      "9  2017-10-30 09:44:50  0.659844  0.448400\n",
      "10 2017-11-06 09:44:50  0.525645  0.540100\n",
      "11 2017-11-13 09:44:50  0.645212  0.493837\n"
     ]
    },
    {
     "name": "stderr",
     "output_type": "stream",
     "text": [
      "C:\\Users\\pon\\anaconda3\\lib\\site-packages\\sklearn\\manifold\\_t_sne.py:780: FutureWarning: The default initialization in TSNE will change from 'random' to 'pca' in 1.2.\n",
      "  warnings.warn(\n",
      "C:\\Users\\pon\\anaconda3\\lib\\site-packages\\sklearn\\manifold\\_t_sne.py:790: FutureWarning: The default learning rate in TSNE will change from 200.0 to 'auto' in 1.2.\n",
      "  warnings.warn(\n"
     ]
    },
    {
     "name": "stdout",
     "output_type": "stream",
     "text": [
      "[t-SNE] Computing 451 nearest neighbors...\n",
      "[t-SNE] Indexed 33114 samples in 0.034s...\n",
      "[t-SNE] Computed neighbors for 33114 samples in 3.200s...\n",
      "[t-SNE] Computed conditional probabilities for sample 1000 / 33114\n",
      "[t-SNE] Computed conditional probabilities for sample 2000 / 33114\n",
      "[t-SNE] Computed conditional probabilities for sample 3000 / 33114\n",
      "[t-SNE] Computed conditional probabilities for sample 4000 / 33114\n",
      "[t-SNE] Computed conditional probabilities for sample 5000 / 33114\n",
      "[t-SNE] Computed conditional probabilities for sample 6000 / 33114\n",
      "[t-SNE] Computed conditional probabilities for sample 7000 / 33114\n",
      "[t-SNE] Computed conditional probabilities for sample 8000 / 33114\n",
      "[t-SNE] Computed conditional probabilities for sample 9000 / 33114\n",
      "[t-SNE] Computed conditional probabilities for sample 10000 / 33114\n",
      "[t-SNE] Computed conditional probabilities for sample 11000 / 33114\n",
      "[t-SNE] Computed conditional probabilities for sample 12000 / 33114\n",
      "[t-SNE] Computed conditional probabilities for sample 13000 / 33114\n",
      "[t-SNE] Computed conditional probabilities for sample 14000 / 33114\n",
      "[t-SNE] Computed conditional probabilities for sample 15000 / 33114\n",
      "[t-SNE] Computed conditional probabilities for sample 16000 / 33114\n",
      "[t-SNE] Computed conditional probabilities for sample 17000 / 33114\n",
      "[t-SNE] Computed conditional probabilities for sample 18000 / 33114\n",
      "[t-SNE] Computed conditional probabilities for sample 19000 / 33114\n",
      "[t-SNE] Computed conditional probabilities for sample 20000 / 33114\n",
      "[t-SNE] Computed conditional probabilities for sample 21000 / 33114\n",
      "[t-SNE] Computed conditional probabilities for sample 22000 / 33114\n",
      "[t-SNE] Computed conditional probabilities for sample 23000 / 33114\n",
      "[t-SNE] Computed conditional probabilities for sample 24000 / 33114\n",
      "[t-SNE] Computed conditional probabilities for sample 25000 / 33114\n",
      "[t-SNE] Computed conditional probabilities for sample 26000 / 33114\n",
      "[t-SNE] Computed conditional probabilities for sample 27000 / 33114\n",
      "[t-SNE] Computed conditional probabilities for sample 28000 / 33114\n",
      "[t-SNE] Computed conditional probabilities for sample 29000 / 33114\n",
      "[t-SNE] Computed conditional probabilities for sample 30000 / 33114\n",
      "[t-SNE] Computed conditional probabilities for sample 31000 / 33114\n",
      "[t-SNE] Computed conditional probabilities for sample 32000 / 33114\n",
      "[t-SNE] Computed conditional probabilities for sample 33000 / 33114\n",
      "[t-SNE] Computed conditional probabilities for sample 33114 / 33114\n",
      "[t-SNE] Mean sigma: 0.048834\n",
      "[t-SNE] KL divergence after 250 iterations with early exaggeration: 67.291733\n",
      "[t-SNE] KL divergence after 1000 iterations: 0.796802\n"
     ]
    },
    {
     "name": "stderr",
     "output_type": "stream",
     "text": [
      "C:\\Users\\pon\\anaconda3\\lib\\site-packages\\sklearn\\manifold\\_t_sne.py:780: FutureWarning: The default initialization in TSNE will change from 'random' to 'pca' in 1.2.\n",
      "  warnings.warn(\n",
      "C:\\Users\\pon\\anaconda3\\lib\\site-packages\\sklearn\\manifold\\_t_sne.py:790: FutureWarning: The default learning rate in TSNE will change from 200.0 to 'auto' in 1.2.\n",
      "  warnings.warn(\n"
     ]
    },
    {
     "name": "stdout",
     "output_type": "stream",
     "text": [
      "                  date     kmean    dbscan\n",
      "0  2017-08-28 09:44:50  1.000000  0.662046\n",
      "1  2017-09-04 09:44:50  0.932924  0.628687\n",
      "2  2017-09-11 09:44:50  0.904551  0.630129\n",
      "3  2017-09-18 09:44:50  0.869314  0.642172\n",
      "4  2017-09-25 09:44:50  0.870575  0.604981\n",
      "5  2017-10-02 09:44:50  0.699774  0.513672\n",
      "6  2017-10-09 09:44:50  0.654158  0.657669\n",
      "7  2017-10-16 09:44:50  0.651367  0.506712\n",
      "8  2017-10-23 09:44:50  0.656271  0.389173\n",
      "9  2017-10-30 09:44:50  0.659844  0.448400\n",
      "10 2017-11-06 09:44:50  0.525645  0.540100\n",
      "11 2017-11-13 09:44:50  0.645212  0.493837\n",
      "12 2017-11-20 09:44:50  0.656172  0.442997\n"
     ]
    },
    {
     "name": "stderr",
     "output_type": "stream",
     "text": [
      "C:\\Users\\pon\\anaconda3\\lib\\site-packages\\sklearn\\manifold\\_t_sne.py:780: FutureWarning: The default initialization in TSNE will change from 'random' to 'pca' in 1.2.\n",
      "  warnings.warn(\n",
      "C:\\Users\\pon\\anaconda3\\lib\\site-packages\\sklearn\\manifold\\_t_sne.py:790: FutureWarning: The default learning rate in TSNE will change from 200.0 to 'auto' in 1.2.\n",
      "  warnings.warn(\n"
     ]
    },
    {
     "name": "stdout",
     "output_type": "stream",
     "text": [
      "[t-SNE] Computing 451 nearest neighbors...\n",
      "[t-SNE] Indexed 36028 samples in 0.034s...\n",
      "[t-SNE] Computed neighbors for 36028 samples in 3.452s...\n",
      "[t-SNE] Computed conditional probabilities for sample 1000 / 36028\n",
      "[t-SNE] Computed conditional probabilities for sample 2000 / 36028\n",
      "[t-SNE] Computed conditional probabilities for sample 3000 / 36028\n",
      "[t-SNE] Computed conditional probabilities for sample 4000 / 36028\n",
      "[t-SNE] Computed conditional probabilities for sample 5000 / 36028\n",
      "[t-SNE] Computed conditional probabilities for sample 6000 / 36028\n",
      "[t-SNE] Computed conditional probabilities for sample 7000 / 36028\n",
      "[t-SNE] Computed conditional probabilities for sample 8000 / 36028\n",
      "[t-SNE] Computed conditional probabilities for sample 9000 / 36028\n",
      "[t-SNE] Computed conditional probabilities for sample 10000 / 36028\n",
      "[t-SNE] Computed conditional probabilities for sample 11000 / 36028\n",
      "[t-SNE] Computed conditional probabilities for sample 12000 / 36028\n",
      "[t-SNE] Computed conditional probabilities for sample 13000 / 36028\n",
      "[t-SNE] Computed conditional probabilities for sample 14000 / 36028\n",
      "[t-SNE] Computed conditional probabilities for sample 15000 / 36028\n",
      "[t-SNE] Computed conditional probabilities for sample 16000 / 36028\n",
      "[t-SNE] Computed conditional probabilities for sample 17000 / 36028\n",
      "[t-SNE] Computed conditional probabilities for sample 18000 / 36028\n",
      "[t-SNE] Computed conditional probabilities for sample 19000 / 36028\n",
      "[t-SNE] Computed conditional probabilities for sample 20000 / 36028\n",
      "[t-SNE] Computed conditional probabilities for sample 21000 / 36028\n",
      "[t-SNE] Computed conditional probabilities for sample 22000 / 36028\n",
      "[t-SNE] Computed conditional probabilities for sample 23000 / 36028\n",
      "[t-SNE] Computed conditional probabilities for sample 24000 / 36028\n",
      "[t-SNE] Computed conditional probabilities for sample 25000 / 36028\n",
      "[t-SNE] Computed conditional probabilities for sample 26000 / 36028\n",
      "[t-SNE] Computed conditional probabilities for sample 27000 / 36028\n",
      "[t-SNE] Computed conditional probabilities for sample 28000 / 36028\n",
      "[t-SNE] Computed conditional probabilities for sample 29000 / 36028\n",
      "[t-SNE] Computed conditional probabilities for sample 30000 / 36028\n",
      "[t-SNE] Computed conditional probabilities for sample 31000 / 36028\n",
      "[t-SNE] Computed conditional probabilities for sample 32000 / 36028\n",
      "[t-SNE] Computed conditional probabilities for sample 33000 / 36028\n",
      "[t-SNE] Computed conditional probabilities for sample 34000 / 36028\n",
      "[t-SNE] Computed conditional probabilities for sample 35000 / 36028\n",
      "[t-SNE] Computed conditional probabilities for sample 36000 / 36028\n",
      "[t-SNE] Computed conditional probabilities for sample 36028 / 36028\n",
      "[t-SNE] Mean sigma: 0.043661\n",
      "[t-SNE] KL divergence after 250 iterations with early exaggeration: 66.360367\n",
      "[t-SNE] KL divergence after 1000 iterations: 0.801971\n"
     ]
    },
    {
     "name": "stderr",
     "output_type": "stream",
     "text": [
      "C:\\Users\\pon\\anaconda3\\lib\\site-packages\\sklearn\\manifold\\_t_sne.py:780: FutureWarning: The default initialization in TSNE will change from 'random' to 'pca' in 1.2.\n",
      "  warnings.warn(\n",
      "C:\\Users\\pon\\anaconda3\\lib\\site-packages\\sklearn\\manifold\\_t_sne.py:790: FutureWarning: The default learning rate in TSNE will change from 200.0 to 'auto' in 1.2.\n",
      "  warnings.warn(\n"
     ]
    },
    {
     "name": "stdout",
     "output_type": "stream",
     "text": [
      "                  date     kmean    dbscan\n",
      "0  2017-08-28 09:44:50  1.000000  0.662046\n",
      "1  2017-09-04 09:44:50  0.932924  0.628687\n",
      "2  2017-09-11 09:44:50  0.904551  0.630129\n",
      "3  2017-09-18 09:44:50  0.869314  0.642172\n",
      "4  2017-09-25 09:44:50  0.870575  0.604981\n",
      "5  2017-10-02 09:44:50  0.699774  0.513672\n",
      "6  2017-10-09 09:44:50  0.654158  0.657669\n",
      "7  2017-10-16 09:44:50  0.651367  0.506712\n",
      "8  2017-10-23 09:44:50  0.656271  0.389173\n",
      "9  2017-10-30 09:44:50  0.659844  0.448400\n",
      "10 2017-11-06 09:44:50  0.525645  0.540100\n",
      "11 2017-11-13 09:44:50  0.645212  0.493837\n",
      "12 2017-11-20 09:44:50  0.656172  0.442997\n",
      "13 2017-11-27 09:44:50  0.276890  0.193229\n"
     ]
    },
    {
     "name": "stderr",
     "output_type": "stream",
     "text": [
      "C:\\Users\\pon\\anaconda3\\lib\\site-packages\\sklearn\\manifold\\_t_sne.py:780: FutureWarning: The default initialization in TSNE will change from 'random' to 'pca' in 1.2.\n",
      "  warnings.warn(\n",
      "C:\\Users\\pon\\anaconda3\\lib\\site-packages\\sklearn\\manifold\\_t_sne.py:790: FutureWarning: The default learning rate in TSNE will change from 200.0 to 'auto' in 1.2.\n",
      "  warnings.warn(\n"
     ]
    },
    {
     "name": "stdout",
     "output_type": "stream",
     "text": [
      "[t-SNE] Computing 451 nearest neighbors...\n",
      "[t-SNE] Indexed 38006 samples in 0.036s...\n",
      "[t-SNE] Computed neighbors for 38006 samples in 3.754s...\n",
      "[t-SNE] Computed conditional probabilities for sample 1000 / 38006\n",
      "[t-SNE] Computed conditional probabilities for sample 2000 / 38006\n",
      "[t-SNE] Computed conditional probabilities for sample 3000 / 38006\n",
      "[t-SNE] Computed conditional probabilities for sample 4000 / 38006\n",
      "[t-SNE] Computed conditional probabilities for sample 5000 / 38006\n",
      "[t-SNE] Computed conditional probabilities for sample 6000 / 38006\n",
      "[t-SNE] Computed conditional probabilities for sample 7000 / 38006\n",
      "[t-SNE] Computed conditional probabilities for sample 8000 / 38006\n",
      "[t-SNE] Computed conditional probabilities for sample 9000 / 38006\n",
      "[t-SNE] Computed conditional probabilities for sample 10000 / 38006\n",
      "[t-SNE] Computed conditional probabilities for sample 11000 / 38006\n",
      "[t-SNE] Computed conditional probabilities for sample 12000 / 38006\n",
      "[t-SNE] Computed conditional probabilities for sample 13000 / 38006\n",
      "[t-SNE] Computed conditional probabilities for sample 14000 / 38006\n",
      "[t-SNE] Computed conditional probabilities for sample 15000 / 38006\n",
      "[t-SNE] Computed conditional probabilities for sample 16000 / 38006\n",
      "[t-SNE] Computed conditional probabilities for sample 17000 / 38006\n",
      "[t-SNE] Computed conditional probabilities for sample 18000 / 38006\n",
      "[t-SNE] Computed conditional probabilities for sample 19000 / 38006\n",
      "[t-SNE] Computed conditional probabilities for sample 20000 / 38006\n",
      "[t-SNE] Computed conditional probabilities for sample 21000 / 38006\n",
      "[t-SNE] Computed conditional probabilities for sample 22000 / 38006\n",
      "[t-SNE] Computed conditional probabilities for sample 23000 / 38006\n",
      "[t-SNE] Computed conditional probabilities for sample 24000 / 38006\n",
      "[t-SNE] Computed conditional probabilities for sample 25000 / 38006\n",
      "[t-SNE] Computed conditional probabilities for sample 26000 / 38006\n",
      "[t-SNE] Computed conditional probabilities for sample 27000 / 38006\n",
      "[t-SNE] Computed conditional probabilities for sample 28000 / 38006\n",
      "[t-SNE] Computed conditional probabilities for sample 29000 / 38006\n",
      "[t-SNE] Computed conditional probabilities for sample 30000 / 38006\n",
      "[t-SNE] Computed conditional probabilities for sample 31000 / 38006\n",
      "[t-SNE] Computed conditional probabilities for sample 32000 / 38006\n",
      "[t-SNE] Computed conditional probabilities for sample 33000 / 38006\n",
      "[t-SNE] Computed conditional probabilities for sample 34000 / 38006\n",
      "[t-SNE] Computed conditional probabilities for sample 35000 / 38006\n",
      "[t-SNE] Computed conditional probabilities for sample 36000 / 38006\n",
      "[t-SNE] Computed conditional probabilities for sample 37000 / 38006\n",
      "[t-SNE] Computed conditional probabilities for sample 38000 / 38006\n",
      "[t-SNE] Computed conditional probabilities for sample 38006 / 38006\n",
      "[t-SNE] Mean sigma: 0.040392\n",
      "[t-SNE] KL divergence after 250 iterations with early exaggeration: 67.090874\n",
      "[t-SNE] KL divergence after 1000 iterations: 0.839600\n"
     ]
    },
    {
     "name": "stderr",
     "output_type": "stream",
     "text": [
      "C:\\Users\\pon\\anaconda3\\lib\\site-packages\\sklearn\\manifold\\_t_sne.py:780: FutureWarning: The default initialization in TSNE will change from 'random' to 'pca' in 1.2.\n",
      "  warnings.warn(\n",
      "C:\\Users\\pon\\anaconda3\\lib\\site-packages\\sklearn\\manifold\\_t_sne.py:790: FutureWarning: The default learning rate in TSNE will change from 200.0 to 'auto' in 1.2.\n",
      "  warnings.warn(\n"
     ]
    },
    {
     "name": "stdout",
     "output_type": "stream",
     "text": [
      "                  date     kmean    dbscan\n",
      "0  2017-08-28 09:44:50  1.000000  0.662046\n",
      "1  2017-09-04 09:44:50  0.932924  0.628687\n",
      "2  2017-09-11 09:44:50  0.904551  0.630129\n",
      "3  2017-09-18 09:44:50  0.869314  0.642172\n",
      "4  2017-09-25 09:44:50  0.870575  0.604981\n",
      "5  2017-10-02 09:44:50  0.699774  0.513672\n",
      "6  2017-10-09 09:44:50  0.654158  0.657669\n",
      "7  2017-10-16 09:44:50  0.651367  0.506712\n",
      "8  2017-10-23 09:44:50  0.656271  0.389173\n",
      "9  2017-10-30 09:44:50  0.659844  0.448400\n",
      "10 2017-11-06 09:44:50  0.525645  0.540100\n",
      "11 2017-11-13 09:44:50  0.645212  0.493837\n",
      "12 2017-11-20 09:44:50  0.656172  0.442997\n",
      "13 2017-11-27 09:44:50  0.276890  0.193229\n",
      "14 2017-12-04 09:44:50  0.278328  0.236197\n"
     ]
    },
    {
     "name": "stderr",
     "output_type": "stream",
     "text": [
      "C:\\Users\\pon\\anaconda3\\lib\\site-packages\\sklearn\\manifold\\_t_sne.py:780: FutureWarning: The default initialization in TSNE will change from 'random' to 'pca' in 1.2.\n",
      "  warnings.warn(\n",
      "C:\\Users\\pon\\anaconda3\\lib\\site-packages\\sklearn\\manifold\\_t_sne.py:790: FutureWarning: The default learning rate in TSNE will change from 200.0 to 'auto' in 1.2.\n",
      "  warnings.warn(\n"
     ]
    },
    {
     "name": "stdout",
     "output_type": "stream",
     "text": [
      "[t-SNE] Computing 451 nearest neighbors...\n",
      "[t-SNE] Indexed 39574 samples in 0.037s...\n",
      "[t-SNE] Computed neighbors for 39574 samples in 3.758s...\n",
      "[t-SNE] Computed conditional probabilities for sample 1000 / 39574\n",
      "[t-SNE] Computed conditional probabilities for sample 2000 / 39574\n",
      "[t-SNE] Computed conditional probabilities for sample 3000 / 39574\n",
      "[t-SNE] Computed conditional probabilities for sample 4000 / 39574\n",
      "[t-SNE] Computed conditional probabilities for sample 5000 / 39574\n",
      "[t-SNE] Computed conditional probabilities for sample 6000 / 39574\n",
      "[t-SNE] Computed conditional probabilities for sample 7000 / 39574\n",
      "[t-SNE] Computed conditional probabilities for sample 8000 / 39574\n",
      "[t-SNE] Computed conditional probabilities for sample 9000 / 39574\n",
      "[t-SNE] Computed conditional probabilities for sample 10000 / 39574\n",
      "[t-SNE] Computed conditional probabilities for sample 11000 / 39574\n",
      "[t-SNE] Computed conditional probabilities for sample 12000 / 39574\n",
      "[t-SNE] Computed conditional probabilities for sample 13000 / 39574\n",
      "[t-SNE] Computed conditional probabilities for sample 14000 / 39574\n",
      "[t-SNE] Computed conditional probabilities for sample 15000 / 39574\n",
      "[t-SNE] Computed conditional probabilities for sample 16000 / 39574\n",
      "[t-SNE] Computed conditional probabilities for sample 17000 / 39574\n",
      "[t-SNE] Computed conditional probabilities for sample 18000 / 39574\n",
      "[t-SNE] Computed conditional probabilities for sample 19000 / 39574\n",
      "[t-SNE] Computed conditional probabilities for sample 20000 / 39574\n",
      "[t-SNE] Computed conditional probabilities for sample 21000 / 39574\n",
      "[t-SNE] Computed conditional probabilities for sample 22000 / 39574\n",
      "[t-SNE] Computed conditional probabilities for sample 23000 / 39574\n",
      "[t-SNE] Computed conditional probabilities for sample 24000 / 39574\n",
      "[t-SNE] Computed conditional probabilities for sample 25000 / 39574\n",
      "[t-SNE] Computed conditional probabilities for sample 26000 / 39574\n",
      "[t-SNE] Computed conditional probabilities for sample 27000 / 39574\n",
      "[t-SNE] Computed conditional probabilities for sample 28000 / 39574\n",
      "[t-SNE] Computed conditional probabilities for sample 29000 / 39574\n",
      "[t-SNE] Computed conditional probabilities for sample 30000 / 39574\n",
      "[t-SNE] Computed conditional probabilities for sample 31000 / 39574\n",
      "[t-SNE] Computed conditional probabilities for sample 32000 / 39574\n",
      "[t-SNE] Computed conditional probabilities for sample 33000 / 39574\n",
      "[t-SNE] Computed conditional probabilities for sample 34000 / 39574\n",
      "[t-SNE] Computed conditional probabilities for sample 35000 / 39574\n",
      "[t-SNE] Computed conditional probabilities for sample 36000 / 39574\n",
      "[t-SNE] Computed conditional probabilities for sample 37000 / 39574\n",
      "[t-SNE] Computed conditional probabilities for sample 38000 / 39574\n",
      "[t-SNE] Computed conditional probabilities for sample 39000 / 39574\n",
      "[t-SNE] Computed conditional probabilities for sample 39574 / 39574\n",
      "[t-SNE] Mean sigma: 0.039126\n",
      "[t-SNE] KL divergence after 250 iterations with early exaggeration: 67.181824\n",
      "[t-SNE] KL divergence after 1000 iterations: 0.873856\n"
     ]
    },
    {
     "name": "stderr",
     "output_type": "stream",
     "text": [
      "C:\\Users\\pon\\anaconda3\\lib\\site-packages\\sklearn\\manifold\\_t_sne.py:780: FutureWarning: The default initialization in TSNE will change from 'random' to 'pca' in 1.2.\n",
      "  warnings.warn(\n",
      "C:\\Users\\pon\\anaconda3\\lib\\site-packages\\sklearn\\manifold\\_t_sne.py:790: FutureWarning: The default learning rate in TSNE will change from 200.0 to 'auto' in 1.2.\n",
      "  warnings.warn(\n"
     ]
    },
    {
     "name": "stdout",
     "output_type": "stream",
     "text": [
      "                  date     kmean    dbscan\n",
      "0  2017-08-28 09:44:50  1.000000  0.662046\n",
      "1  2017-09-04 09:44:50  0.932924  0.628687\n",
      "2  2017-09-11 09:44:50  0.904551  0.630129\n",
      "3  2017-09-18 09:44:50  0.869314  0.642172\n",
      "4  2017-09-25 09:44:50  0.870575  0.604981\n",
      "5  2017-10-02 09:44:50  0.699774  0.513672\n",
      "6  2017-10-09 09:44:50  0.654158  0.657669\n",
      "7  2017-10-16 09:44:50  0.651367  0.506712\n",
      "8  2017-10-23 09:44:50  0.656271  0.389173\n",
      "9  2017-10-30 09:44:50  0.659844  0.448400\n",
      "10 2017-11-06 09:44:50  0.525645  0.540100\n",
      "11 2017-11-13 09:44:50  0.645212  0.493837\n",
      "12 2017-11-20 09:44:50  0.656172  0.442997\n",
      "13 2017-11-27 09:44:50  0.276890  0.193229\n",
      "14 2017-12-04 09:44:50  0.278328  0.236197\n",
      "15 2017-12-11 09:44:50  0.276191  0.253540\n"
     ]
    },
    {
     "name": "stderr",
     "output_type": "stream",
     "text": [
      "C:\\Users\\pon\\anaconda3\\lib\\site-packages\\sklearn\\manifold\\_t_sne.py:780: FutureWarning: The default initialization in TSNE will change from 'random' to 'pca' in 1.2.\n",
      "  warnings.warn(\n",
      "C:\\Users\\pon\\anaconda3\\lib\\site-packages\\sklearn\\manifold\\_t_sne.py:790: FutureWarning: The default learning rate in TSNE will change from 200.0 to 'auto' in 1.2.\n",
      "  warnings.warn(\n"
     ]
    },
    {
     "name": "stdout",
     "output_type": "stream",
     "text": [
      "[t-SNE] Computing 451 nearest neighbors...\n",
      "[t-SNE] Indexed 40899 samples in 0.038s...\n",
      "[t-SNE] Computed neighbors for 40899 samples in 3.909s...\n",
      "[t-SNE] Computed conditional probabilities for sample 1000 / 40899\n",
      "[t-SNE] Computed conditional probabilities for sample 2000 / 40899\n",
      "[t-SNE] Computed conditional probabilities for sample 3000 / 40899\n",
      "[t-SNE] Computed conditional probabilities for sample 4000 / 40899\n",
      "[t-SNE] Computed conditional probabilities for sample 5000 / 40899\n",
      "[t-SNE] Computed conditional probabilities for sample 6000 / 40899\n",
      "[t-SNE] Computed conditional probabilities for sample 7000 / 40899\n",
      "[t-SNE] Computed conditional probabilities for sample 8000 / 40899\n",
      "[t-SNE] Computed conditional probabilities for sample 9000 / 40899\n",
      "[t-SNE] Computed conditional probabilities for sample 10000 / 40899\n",
      "[t-SNE] Computed conditional probabilities for sample 11000 / 40899\n",
      "[t-SNE] Computed conditional probabilities for sample 12000 / 40899\n",
      "[t-SNE] Computed conditional probabilities for sample 13000 / 40899\n",
      "[t-SNE] Computed conditional probabilities for sample 14000 / 40899\n",
      "[t-SNE] Computed conditional probabilities for sample 15000 / 40899\n",
      "[t-SNE] Computed conditional probabilities for sample 16000 / 40899\n",
      "[t-SNE] Computed conditional probabilities for sample 17000 / 40899\n",
      "[t-SNE] Computed conditional probabilities for sample 18000 / 40899\n",
      "[t-SNE] Computed conditional probabilities for sample 19000 / 40899\n",
      "[t-SNE] Computed conditional probabilities for sample 20000 / 40899\n",
      "[t-SNE] Computed conditional probabilities for sample 21000 / 40899\n",
      "[t-SNE] Computed conditional probabilities for sample 22000 / 40899\n",
      "[t-SNE] Computed conditional probabilities for sample 23000 / 40899\n",
      "[t-SNE] Computed conditional probabilities for sample 24000 / 40899\n",
      "[t-SNE] Computed conditional probabilities for sample 25000 / 40899\n",
      "[t-SNE] Computed conditional probabilities for sample 26000 / 40899\n",
      "[t-SNE] Computed conditional probabilities for sample 27000 / 40899\n",
      "[t-SNE] Computed conditional probabilities for sample 28000 / 40899\n",
      "[t-SNE] Computed conditional probabilities for sample 29000 / 40899\n",
      "[t-SNE] Computed conditional probabilities for sample 30000 / 40899\n",
      "[t-SNE] Computed conditional probabilities for sample 31000 / 40899\n",
      "[t-SNE] Computed conditional probabilities for sample 32000 / 40899\n",
      "[t-SNE] Computed conditional probabilities for sample 33000 / 40899\n",
      "[t-SNE] Computed conditional probabilities for sample 34000 / 40899\n",
      "[t-SNE] Computed conditional probabilities for sample 35000 / 40899\n",
      "[t-SNE] Computed conditional probabilities for sample 36000 / 40899\n",
      "[t-SNE] Computed conditional probabilities for sample 37000 / 40899\n",
      "[t-SNE] Computed conditional probabilities for sample 38000 / 40899\n",
      "[t-SNE] Computed conditional probabilities for sample 39000 / 40899\n",
      "[t-SNE] Computed conditional probabilities for sample 40000 / 40899\n",
      "[t-SNE] Computed conditional probabilities for sample 40899 / 40899\n",
      "[t-SNE] Mean sigma: 0.038467\n",
      "[t-SNE] KL divergence after 250 iterations with early exaggeration: 70.149345\n",
      "[t-SNE] KL divergence after 1000 iterations: 0.929121\n"
     ]
    },
    {
     "name": "stderr",
     "output_type": "stream",
     "text": [
      "C:\\Users\\pon\\anaconda3\\lib\\site-packages\\sklearn\\manifold\\_t_sne.py:780: FutureWarning: The default initialization in TSNE will change from 'random' to 'pca' in 1.2.\n",
      "  warnings.warn(\n",
      "C:\\Users\\pon\\anaconda3\\lib\\site-packages\\sklearn\\manifold\\_t_sne.py:790: FutureWarning: The default learning rate in TSNE will change from 200.0 to 'auto' in 1.2.\n",
      "  warnings.warn(\n"
     ]
    },
    {
     "name": "stdout",
     "output_type": "stream",
     "text": [
      "                  date     kmean    dbscan\n",
      "0  2017-08-28 09:44:50  1.000000  0.662046\n",
      "1  2017-09-04 09:44:50  0.932924  0.628687\n",
      "2  2017-09-11 09:44:50  0.904551  0.630129\n",
      "3  2017-09-18 09:44:50  0.869314  0.642172\n",
      "4  2017-09-25 09:44:50  0.870575  0.604981\n",
      "5  2017-10-02 09:44:50  0.699774  0.513672\n",
      "6  2017-10-09 09:44:50  0.654158  0.657669\n",
      "7  2017-10-16 09:44:50  0.651367  0.506712\n",
      "8  2017-10-23 09:44:50  0.656271  0.389173\n",
      "9  2017-10-30 09:44:50  0.659844  0.448400\n",
      "10 2017-11-06 09:44:50  0.525645  0.540100\n",
      "11 2017-11-13 09:44:50  0.645212  0.493837\n",
      "12 2017-11-20 09:44:50  0.656172  0.442997\n",
      "13 2017-11-27 09:44:50  0.276890  0.193229\n",
      "14 2017-12-04 09:44:50  0.278328  0.236197\n",
      "15 2017-12-11 09:44:50  0.276191  0.253540\n",
      "16 2017-12-18 09:44:50  0.276777  0.240467\n"
     ]
    },
    {
     "name": "stderr",
     "output_type": "stream",
     "text": [
      "C:\\Users\\pon\\anaconda3\\lib\\site-packages\\sklearn\\manifold\\_t_sne.py:780: FutureWarning: The default initialization in TSNE will change from 'random' to 'pca' in 1.2.\n",
      "  warnings.warn(\n",
      "C:\\Users\\pon\\anaconda3\\lib\\site-packages\\sklearn\\manifold\\_t_sne.py:790: FutureWarning: The default learning rate in TSNE will change from 200.0 to 'auto' in 1.2.\n",
      "  warnings.warn(\n"
     ]
    },
    {
     "name": "stdout",
     "output_type": "stream",
     "text": [
      "[t-SNE] Computing 451 nearest neighbors...\n",
      "[t-SNE] Indexed 41803 samples in 0.040s...\n",
      "[t-SNE] Computed neighbors for 41803 samples in 4.165s...\n",
      "[t-SNE] Computed conditional probabilities for sample 1000 / 41803\n",
      "[t-SNE] Computed conditional probabilities for sample 2000 / 41803\n",
      "[t-SNE] Computed conditional probabilities for sample 3000 / 41803\n",
      "[t-SNE] Computed conditional probabilities for sample 4000 / 41803\n",
      "[t-SNE] Computed conditional probabilities for sample 5000 / 41803\n",
      "[t-SNE] Computed conditional probabilities for sample 6000 / 41803\n",
      "[t-SNE] Computed conditional probabilities for sample 7000 / 41803\n",
      "[t-SNE] Computed conditional probabilities for sample 8000 / 41803\n",
      "[t-SNE] Computed conditional probabilities for sample 9000 / 41803\n",
      "[t-SNE] Computed conditional probabilities for sample 10000 / 41803\n",
      "[t-SNE] Computed conditional probabilities for sample 11000 / 41803\n",
      "[t-SNE] Computed conditional probabilities for sample 12000 / 41803\n",
      "[t-SNE] Computed conditional probabilities for sample 13000 / 41803\n",
      "[t-SNE] Computed conditional probabilities for sample 14000 / 41803\n",
      "[t-SNE] Computed conditional probabilities for sample 15000 / 41803\n",
      "[t-SNE] Computed conditional probabilities for sample 16000 / 41803\n",
      "[t-SNE] Computed conditional probabilities for sample 17000 / 41803\n",
      "[t-SNE] Computed conditional probabilities for sample 18000 / 41803\n",
      "[t-SNE] Computed conditional probabilities for sample 19000 / 41803\n",
      "[t-SNE] Computed conditional probabilities for sample 20000 / 41803\n",
      "[t-SNE] Computed conditional probabilities for sample 21000 / 41803\n",
      "[t-SNE] Computed conditional probabilities for sample 22000 / 41803\n",
      "[t-SNE] Computed conditional probabilities for sample 23000 / 41803\n",
      "[t-SNE] Computed conditional probabilities for sample 24000 / 41803\n",
      "[t-SNE] Computed conditional probabilities for sample 25000 / 41803\n",
      "[t-SNE] Computed conditional probabilities for sample 26000 / 41803\n",
      "[t-SNE] Computed conditional probabilities for sample 27000 / 41803\n",
      "[t-SNE] Computed conditional probabilities for sample 28000 / 41803\n",
      "[t-SNE] Computed conditional probabilities for sample 29000 / 41803\n",
      "[t-SNE] Computed conditional probabilities for sample 30000 / 41803\n",
      "[t-SNE] Computed conditional probabilities for sample 31000 / 41803\n",
      "[t-SNE] Computed conditional probabilities for sample 32000 / 41803\n",
      "[t-SNE] Computed conditional probabilities for sample 33000 / 41803\n",
      "[t-SNE] Computed conditional probabilities for sample 34000 / 41803\n",
      "[t-SNE] Computed conditional probabilities for sample 35000 / 41803\n",
      "[t-SNE] Computed conditional probabilities for sample 36000 / 41803\n",
      "[t-SNE] Computed conditional probabilities for sample 37000 / 41803\n",
      "[t-SNE] Computed conditional probabilities for sample 38000 / 41803\n",
      "[t-SNE] Computed conditional probabilities for sample 39000 / 41803\n",
      "[t-SNE] Computed conditional probabilities for sample 40000 / 41803\n",
      "[t-SNE] Computed conditional probabilities for sample 41000 / 41803\n",
      "[t-SNE] Computed conditional probabilities for sample 41803 / 41803\n",
      "[t-SNE] Mean sigma: 0.038208\n",
      "[t-SNE] KL divergence after 250 iterations with early exaggeration: 66.979919\n",
      "[t-SNE] KL divergence after 1000 iterations: 0.865263\n"
     ]
    },
    {
     "name": "stderr",
     "output_type": "stream",
     "text": [
      "C:\\Users\\pon\\anaconda3\\lib\\site-packages\\sklearn\\manifold\\_t_sne.py:780: FutureWarning: The default initialization in TSNE will change from 'random' to 'pca' in 1.2.\n",
      "  warnings.warn(\n",
      "C:\\Users\\pon\\anaconda3\\lib\\site-packages\\sklearn\\manifold\\_t_sne.py:790: FutureWarning: The default learning rate in TSNE will change from 200.0 to 'auto' in 1.2.\n",
      "  warnings.warn(\n"
     ]
    },
    {
     "name": "stdout",
     "output_type": "stream",
     "text": [
      "                  date     kmean    dbscan\n",
      "0  2017-08-28 09:44:50  1.000000  0.662046\n",
      "1  2017-09-04 09:44:50  0.932924  0.628687\n",
      "2  2017-09-11 09:44:50  0.904551  0.630129\n",
      "3  2017-09-18 09:44:50  0.869314  0.642172\n",
      "4  2017-09-25 09:44:50  0.870575  0.604981\n",
      "5  2017-10-02 09:44:50  0.699774  0.513672\n",
      "6  2017-10-09 09:44:50  0.654158  0.657669\n",
      "7  2017-10-16 09:44:50  0.651367  0.506712\n",
      "8  2017-10-23 09:44:50  0.656271  0.389173\n",
      "9  2017-10-30 09:44:50  0.659844  0.448400\n",
      "10 2017-11-06 09:44:50  0.525645  0.540100\n",
      "11 2017-11-13 09:44:50  0.645212  0.493837\n",
      "12 2017-11-20 09:44:50  0.656172  0.442997\n",
      "13 2017-11-27 09:44:50  0.276890  0.193229\n",
      "14 2017-12-04 09:44:50  0.278328  0.236197\n",
      "15 2017-12-11 09:44:50  0.276191  0.253540\n",
      "16 2017-12-18 09:44:50  0.276777  0.240467\n",
      "17 2017-12-25 09:44:50  0.277299  0.344425\n"
     ]
    },
    {
     "name": "stderr",
     "output_type": "stream",
     "text": [
      "C:\\Users\\pon\\anaconda3\\lib\\site-packages\\sklearn\\manifold\\_t_sne.py:780: FutureWarning: The default initialization in TSNE will change from 'random' to 'pca' in 1.2.\n",
      "  warnings.warn(\n",
      "C:\\Users\\pon\\anaconda3\\lib\\site-packages\\sklearn\\manifold\\_t_sne.py:790: FutureWarning: The default learning rate in TSNE will change from 200.0 to 'auto' in 1.2.\n",
      "  warnings.warn(\n"
     ]
    },
    {
     "name": "stdout",
     "output_type": "stream",
     "text": [
      "[t-SNE] Computing 451 nearest neighbors...\n",
      "[t-SNE] Indexed 42612 samples in 0.043s...\n",
      "[t-SNE] Computed neighbors for 42612 samples in 4.339s...\n",
      "[t-SNE] Computed conditional probabilities for sample 1000 / 42612\n",
      "[t-SNE] Computed conditional probabilities for sample 2000 / 42612\n",
      "[t-SNE] Computed conditional probabilities for sample 3000 / 42612\n",
      "[t-SNE] Computed conditional probabilities for sample 4000 / 42612\n",
      "[t-SNE] Computed conditional probabilities for sample 5000 / 42612\n",
      "[t-SNE] Computed conditional probabilities for sample 6000 / 42612\n",
      "[t-SNE] Computed conditional probabilities for sample 7000 / 42612\n",
      "[t-SNE] Computed conditional probabilities for sample 8000 / 42612\n",
      "[t-SNE] Computed conditional probabilities for sample 9000 / 42612\n",
      "[t-SNE] Computed conditional probabilities for sample 10000 / 42612\n",
      "[t-SNE] Computed conditional probabilities for sample 11000 / 42612\n",
      "[t-SNE] Computed conditional probabilities for sample 12000 / 42612\n",
      "[t-SNE] Computed conditional probabilities for sample 13000 / 42612\n",
      "[t-SNE] Computed conditional probabilities for sample 14000 / 42612\n",
      "[t-SNE] Computed conditional probabilities for sample 15000 / 42612\n",
      "[t-SNE] Computed conditional probabilities for sample 16000 / 42612\n",
      "[t-SNE] Computed conditional probabilities for sample 17000 / 42612\n",
      "[t-SNE] Computed conditional probabilities for sample 18000 / 42612\n",
      "[t-SNE] Computed conditional probabilities for sample 19000 / 42612\n",
      "[t-SNE] Computed conditional probabilities for sample 20000 / 42612\n",
      "[t-SNE] Computed conditional probabilities for sample 21000 / 42612\n",
      "[t-SNE] Computed conditional probabilities for sample 22000 / 42612\n",
      "[t-SNE] Computed conditional probabilities for sample 23000 / 42612\n",
      "[t-SNE] Computed conditional probabilities for sample 24000 / 42612\n",
      "[t-SNE] Computed conditional probabilities for sample 25000 / 42612\n",
      "[t-SNE] Computed conditional probabilities for sample 26000 / 42612\n",
      "[t-SNE] Computed conditional probabilities for sample 27000 / 42612\n",
      "[t-SNE] Computed conditional probabilities for sample 28000 / 42612\n",
      "[t-SNE] Computed conditional probabilities for sample 29000 / 42612\n",
      "[t-SNE] Computed conditional probabilities for sample 30000 / 42612\n",
      "[t-SNE] Computed conditional probabilities for sample 31000 / 42612\n",
      "[t-SNE] Computed conditional probabilities for sample 32000 / 42612\n",
      "[t-SNE] Computed conditional probabilities for sample 33000 / 42612\n",
      "[t-SNE] Computed conditional probabilities for sample 34000 / 42612\n",
      "[t-SNE] Computed conditional probabilities for sample 35000 / 42612\n",
      "[t-SNE] Computed conditional probabilities for sample 36000 / 42612\n",
      "[t-SNE] Computed conditional probabilities for sample 37000 / 42612\n",
      "[t-SNE] Computed conditional probabilities for sample 38000 / 42612\n",
      "[t-SNE] Computed conditional probabilities for sample 39000 / 42612\n",
      "[t-SNE] Computed conditional probabilities for sample 40000 / 42612\n",
      "[t-SNE] Computed conditional probabilities for sample 41000 / 42612\n",
      "[t-SNE] Computed conditional probabilities for sample 42000 / 42612\n",
      "[t-SNE] Computed conditional probabilities for sample 42612 / 42612\n",
      "[t-SNE] Mean sigma: 0.038100\n",
      "[t-SNE] KL divergence after 250 iterations with early exaggeration: 67.244110\n",
      "[t-SNE] KL divergence after 1000 iterations: 0.871654\n"
     ]
    },
    {
     "name": "stderr",
     "output_type": "stream",
     "text": [
      "C:\\Users\\pon\\anaconda3\\lib\\site-packages\\sklearn\\manifold\\_t_sne.py:780: FutureWarning: The default initialization in TSNE will change from 'random' to 'pca' in 1.2.\n",
      "  warnings.warn(\n",
      "C:\\Users\\pon\\anaconda3\\lib\\site-packages\\sklearn\\manifold\\_t_sne.py:790: FutureWarning: The default learning rate in TSNE will change from 200.0 to 'auto' in 1.2.\n",
      "  warnings.warn(\n"
     ]
    },
    {
     "name": "stdout",
     "output_type": "stream",
     "text": [
      "                  date     kmean    dbscan\n",
      "0  2017-08-28 09:44:50  1.000000  0.662046\n",
      "1  2017-09-04 09:44:50  0.932924  0.628687\n",
      "2  2017-09-11 09:44:50  0.904551  0.630129\n",
      "3  2017-09-18 09:44:50  0.869314  0.642172\n",
      "4  2017-09-25 09:44:50  0.870575  0.604981\n",
      "5  2017-10-02 09:44:50  0.699774  0.513672\n",
      "6  2017-10-09 09:44:50  0.654158  0.657669\n",
      "7  2017-10-16 09:44:50  0.651367  0.506712\n",
      "8  2017-10-23 09:44:50  0.656271  0.389173\n",
      "9  2017-10-30 09:44:50  0.659844  0.448400\n",
      "10 2017-11-06 09:44:50  0.525645  0.540100\n",
      "11 2017-11-13 09:44:50  0.645212  0.493837\n",
      "12 2017-11-20 09:44:50  0.656172  0.442997\n",
      "13 2017-11-27 09:44:50  0.276890  0.193229\n",
      "14 2017-12-04 09:44:50  0.278328  0.236197\n",
      "15 2017-12-11 09:44:50  0.276191  0.253540\n",
      "16 2017-12-18 09:44:50  0.276777  0.240467\n",
      "17 2017-12-25 09:44:50  0.277299  0.344425\n",
      "18 2018-01-01 09:44:50  0.277304  0.243877\n"
     ]
    },
    {
     "name": "stderr",
     "output_type": "stream",
     "text": [
      "C:\\Users\\pon\\anaconda3\\lib\\site-packages\\sklearn\\manifold\\_t_sne.py:780: FutureWarning: The default initialization in TSNE will change from 'random' to 'pca' in 1.2.\n",
      "  warnings.warn(\n",
      "C:\\Users\\pon\\anaconda3\\lib\\site-packages\\sklearn\\manifold\\_t_sne.py:790: FutureWarning: The default learning rate in TSNE will change from 200.0 to 'auto' in 1.2.\n",
      "  warnings.warn(\n"
     ]
    },
    {
     "name": "stdout",
     "output_type": "stream",
     "text": [
      "[t-SNE] Computing 451 nearest neighbors...\n",
      "[t-SNE] Indexed 43925 samples in 0.043s...\n",
      "[t-SNE] Computed neighbors for 43925 samples in 4.574s...\n",
      "[t-SNE] Computed conditional probabilities for sample 1000 / 43925\n",
      "[t-SNE] Computed conditional probabilities for sample 2000 / 43925\n",
      "[t-SNE] Computed conditional probabilities for sample 3000 / 43925\n",
      "[t-SNE] Computed conditional probabilities for sample 4000 / 43925\n",
      "[t-SNE] Computed conditional probabilities for sample 5000 / 43925\n",
      "[t-SNE] Computed conditional probabilities for sample 6000 / 43925\n",
      "[t-SNE] Computed conditional probabilities for sample 7000 / 43925\n",
      "[t-SNE] Computed conditional probabilities for sample 8000 / 43925\n",
      "[t-SNE] Computed conditional probabilities for sample 9000 / 43925\n",
      "[t-SNE] Computed conditional probabilities for sample 10000 / 43925\n",
      "[t-SNE] Computed conditional probabilities for sample 11000 / 43925\n",
      "[t-SNE] Computed conditional probabilities for sample 12000 / 43925\n",
      "[t-SNE] Computed conditional probabilities for sample 13000 / 43925\n",
      "[t-SNE] Computed conditional probabilities for sample 14000 / 43925\n",
      "[t-SNE] Computed conditional probabilities for sample 15000 / 43925\n",
      "[t-SNE] Computed conditional probabilities for sample 16000 / 43925\n",
      "[t-SNE] Computed conditional probabilities for sample 17000 / 43925\n",
      "[t-SNE] Computed conditional probabilities for sample 18000 / 43925\n",
      "[t-SNE] Computed conditional probabilities for sample 19000 / 43925\n",
      "[t-SNE] Computed conditional probabilities for sample 20000 / 43925\n",
      "[t-SNE] Computed conditional probabilities for sample 21000 / 43925\n",
      "[t-SNE] Computed conditional probabilities for sample 22000 / 43925\n",
      "[t-SNE] Computed conditional probabilities for sample 23000 / 43925\n",
      "[t-SNE] Computed conditional probabilities for sample 24000 / 43925\n",
      "[t-SNE] Computed conditional probabilities for sample 25000 / 43925\n",
      "[t-SNE] Computed conditional probabilities for sample 26000 / 43925\n",
      "[t-SNE] Computed conditional probabilities for sample 27000 / 43925\n",
      "[t-SNE] Computed conditional probabilities for sample 28000 / 43925\n",
      "[t-SNE] Computed conditional probabilities for sample 29000 / 43925\n",
      "[t-SNE] Computed conditional probabilities for sample 30000 / 43925\n",
      "[t-SNE] Computed conditional probabilities for sample 31000 / 43925\n",
      "[t-SNE] Computed conditional probabilities for sample 32000 / 43925\n",
      "[t-SNE] Computed conditional probabilities for sample 33000 / 43925\n",
      "[t-SNE] Computed conditional probabilities for sample 34000 / 43925\n",
      "[t-SNE] Computed conditional probabilities for sample 35000 / 43925\n",
      "[t-SNE] Computed conditional probabilities for sample 36000 / 43925\n",
      "[t-SNE] Computed conditional probabilities for sample 37000 / 43925\n",
      "[t-SNE] Computed conditional probabilities for sample 38000 / 43925\n",
      "[t-SNE] Computed conditional probabilities for sample 39000 / 43925\n",
      "[t-SNE] Computed conditional probabilities for sample 40000 / 43925\n",
      "[t-SNE] Computed conditional probabilities for sample 41000 / 43925\n",
      "[t-SNE] Computed conditional probabilities for sample 42000 / 43925\n",
      "[t-SNE] Computed conditional probabilities for sample 43000 / 43925\n",
      "[t-SNE] Computed conditional probabilities for sample 43925 / 43925\n",
      "[t-SNE] Mean sigma: 0.037975\n",
      "[t-SNE] KL divergence after 250 iterations with early exaggeration: 70.042374\n",
      "[t-SNE] KL divergence after 1000 iterations: 0.931037\n"
     ]
    },
    {
     "name": "stderr",
     "output_type": "stream",
     "text": [
      "C:\\Users\\pon\\anaconda3\\lib\\site-packages\\sklearn\\manifold\\_t_sne.py:780: FutureWarning: The default initialization in TSNE will change from 'random' to 'pca' in 1.2.\n",
      "  warnings.warn(\n",
      "C:\\Users\\pon\\anaconda3\\lib\\site-packages\\sklearn\\manifold\\_t_sne.py:790: FutureWarning: The default learning rate in TSNE will change from 200.0 to 'auto' in 1.2.\n",
      "  warnings.warn(\n"
     ]
    },
    {
     "name": "stdout",
     "output_type": "stream",
     "text": [
      "                  date     kmean    dbscan\n",
      "0  2017-08-28 09:44:50  1.000000  0.662046\n",
      "1  2017-09-04 09:44:50  0.932924  0.628687\n",
      "2  2017-09-11 09:44:50  0.904551  0.630129\n",
      "3  2017-09-18 09:44:50  0.869314  0.642172\n",
      "4  2017-09-25 09:44:50  0.870575  0.604981\n",
      "5  2017-10-02 09:44:50  0.699774  0.513672\n",
      "6  2017-10-09 09:44:50  0.654158  0.657669\n",
      "7  2017-10-16 09:44:50  0.651367  0.506712\n",
      "8  2017-10-23 09:44:50  0.656271  0.389173\n",
      "9  2017-10-30 09:44:50  0.659844  0.448400\n",
      "10 2017-11-06 09:44:50  0.525645  0.540100\n",
      "11 2017-11-13 09:44:50  0.645212  0.493837\n",
      "12 2017-11-20 09:44:50  0.656172  0.442997\n",
      "13 2017-11-27 09:44:50  0.276890  0.193229\n",
      "14 2017-12-04 09:44:50  0.278328  0.236197\n",
      "15 2017-12-11 09:44:50  0.276191  0.253540\n",
      "16 2017-12-18 09:44:50  0.276777  0.240467\n",
      "17 2017-12-25 09:44:50  0.277299  0.344425\n",
      "18 2018-01-01 09:44:50  0.277304  0.243877\n",
      "19 2018-01-08 09:44:50  0.275079  0.212336\n"
     ]
    }
   ],
   "source": [
    "T0=date_range[47]\n",
    "\n",
    "#Préprocessing des données au temps T_0\n",
    "results_T0=pd.DataFrame()\n",
    "df_T0=order_df[order_df['order_purchase_timestamp']<T0]\n",
    "df_rfm_T0=RFM_eval(df_T0)\n",
    "df_prepro_T0=to_merge(df_T0,df_rfm_T0)\n",
    "\n",
    "#Entrainement des modèles au temps T_0\n",
    "Tsne_T0=Tsne\n",
    "z_T0=Tsne_T0.fit_transform(df_prepro_T0[['Frequency' , 'Recency', 'Monetary']])\n",
    "km1_mdl_T0=kmean(df_prepro_T0[['Frequency' , 'Recency', 'Monetary']])\n",
    "\n",
    "\n",
    "ari_result=pd.DataFrame(columns=['date','kmean','dbscan'])\n",
    "\n",
    "\n",
    "for date in date_range[47:67]:\n",
    "    ari_result.loc[len(ari_result.index)] = ARI_t0_t1(date)\n",
    "    print(ari_result)\n",
    "    \n",
    "    \n",
    "    "
   ]
  },
  {
   "cell_type": "code",
   "execution_count": null,
   "id": "0e26f885",
   "metadata": {},
   "outputs": [],
   "source": []
  },
  {
   "cell_type": "code",
   "execution_count": 19,
   "id": "e6b4ed7f",
   "metadata": {},
   "outputs": [],
   "source": [
    "ari_result['nb_semaine']=list(range(0, 20))"
   ]
  },
  {
   "cell_type": "code",
   "execution_count": 20,
   "id": "d7e2cd1c",
   "metadata": {},
   "outputs": [
    {
     "data": {
      "text/plain": [
       "<AxesSubplot:xlabel='nb_semaine', ylabel='kmean'>"
      ]
     },
     "execution_count": 20,
     "metadata": {},
     "output_type": "execute_result"
    },
    {
     "data": {
      "image/png": "[encoded data removed]",
      "text/plain": [
       "<Figure size 576x396 with 1 Axes>"
      ]
     },
     "metadata": {},
     "output_type": "display_data"
    }
   ],
   "source": [
    "sns.scatterplot(data=ari_result, x='nb_semaine', y='kmean')\n",
    "sns.lineplot(data=ari_result, x='nb_semaine', y='kmean', color='red')"
   ]
  },
  {
   "cell_type": "code",
   "execution_count": 21,
   "id": "f9a43250",
   "metadata": {},
   "outputs": [
    {
     "data": {
      "text/plain": [
       "<AxesSubplot:xlabel='nb_semaine', ylabel='dbscan'>"
      ]
     },
     "execution_count": 21,
     "metadata": {},
     "output_type": "execute_result"
    },
    {
     "data": {
      "image/png": "[encoded data removed]",
      "text/plain": [
       "<Figure size 576x396 with 1 Axes>"
      ]
     },
     "metadata": {},
     "output_type": "display_data"
    }
   ],
   "source": [
    "sns.scatterplot(data=ari_result, x='nb_semaine', y='dbscan')\n",
    "sns.lineplot(data=ari_result, x='nb_semaine', y='dbscan', color='red')"
   ]
  },
  {
   "cell_type": "markdown",
   "id": "55ecab8a",
   "metadata": {},
   "source": [
    "Le modèle dbscan n'a même pas 70 de score ARI pour des données identiques, le modèle n'est pas stable \n",
    "\n",
    "En revanche le modèle de kmean a un score ARI supérieur à 85% durant les 5 premières semaines, on choisira donc du préférence ce modèle avec un réentrainement du modèle tous les mois "
   ]
  },
  {
   "cell_type": "code",
   "execution_count": null,
   "id": "7c9be748",
   "metadata": {},
   "outputs": [],
   "source": []
  }
 ],
 "metadata": {
  "kernelspec": {
   "display_name": "Python 3 (ipykernel)",
   "language": "python",
   "name": "python3"
  },
  "language_info": {
   "codemirror_mode": {
    "name": "ipython",
    "version": 3
   },
   "file_extension": ".py",
   "mimetype": "text/x-python",
   "name": "python",
   "nbconvert_exporter": "python",
   "pygments_lexer": "ipython3",
   "version": "3.8.5"
  }
 },
 "nbformat": 4,
 "nbformat_minor": 5
}
